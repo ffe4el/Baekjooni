{
 "cells": [
  {
   "cell_type": "code",
   "execution_count": 5,
   "outputs": [
    {
     "name": "stdout",
     "output_type": "stream",
     "text": [
      "(20, 20)\n",
      "40\n"
     ]
    }
   ],
   "source": [
    "# N개의 수를 입력받아서 두수의 합이 가장 클때는?\n",
    "# 완전탐색을 사용하면 N^2이기 때문에 시간초과! => 정렬사용\n",
    "\n",
    "n = int(input())\n",
    "a =[]\n",
    "for i in range(n+1):\n",
    "    for j in range(n+1):\n",
    "        a.append((i,j))\n",
    "\n",
    "# print(a)\n",
    "print(a[-1])\n",
    "print(sum(a[-1]))\n",
    "\n"
   ],
   "metadata": {
    "collapsed": false
   }
  },
  {
   "cell_type": "code",
   "execution_count": 19,
   "metadata": {
    "collapsed": true
   },
   "outputs": [
    {
     "name": "stdout",
     "output_type": "stream",
     "text": [
      "7\n",
      "8\n",
      "10\n",
      "13\n",
      "19\n",
      "20\n",
      "23\n"
     ]
    }
   ],
   "source": [
    "# 2309\n",
    "\n",
    "from itertools import combinations\n",
    "\n",
    "# v= []\n",
    "# for i in range(9):\n",
    "#     v.append(int(input()))\n",
    "# 위에 세줄을 아래한줄로 표현 가능하다.\n",
    "v = [int(input()) for i in range(9)]\n",
    "\n",
    "for i in combinations(v,7):  #9개중에서 7개를 뽑는다. 조합은 튜플의 형태로 나옴(i가 튜플)\n",
    "    if sum(i) == 100:\n",
    "        for height in sorted(i):\n",
    "            print(height)\n",
    "\n",
    "# => 이렇게 풀면... 백준에 제출했을때 틀렸다고 나온다... 왜일까..?"
   ]
  },
  {
   "cell_type": "code",
   "execution_count": null,
   "outputs": [],
   "source": [
    "# 2309 조합문제\n",
    "\n",
    "from itertools import combinations\n",
    "\n",
    "# v= []\n",
    "# for i in range(9):\n",
    "#     v.append(int(input()))\n",
    "# 위에 세줄을 아래한줄로 표현 가능하다.\n",
    "v = [int(input()) for i in range(9)]\n",
    "\n",
    "for i in combinations(v,7):  #9개중에서 7개를 뽑는다. 조합은 튜플의 형태로 나옴(i가 튜플)\n",
    "    if sum(i) == 100:\n",
    "        for height in sorted(i):\n",
    "            print(height)\n",
    "        break\n"
   ],
   "metadata": {
    "collapsed": false
   }
  },
  {
   "cell_type": "code",
   "execution_count": null,
   "outputs": [],
   "source": [
    "# 2309 for문으로 풀어보기\n",
    "\n",
    "v = [int(input()) for i in range(9)]\n",
    "\n"
   ],
   "metadata": {
    "collapsed": false
   }
  }
 ],
 "metadata": {
  "kernelspec": {
   "display_name": "Python 3",
   "language": "python",
   "name": "python3"
  },
  "language_info": {
   "codemirror_mode": {
    "name": "ipython",
    "version": 2
   },
   "file_extension": ".py",
   "mimetype": "text/x-python",
   "name": "python",
   "nbconvert_exporter": "python",
   "pygments_lexer": "ipython2",
   "version": "2.7.6"
  }
 },
 "nbformat": 4,
 "nbformat_minor": 0
}
