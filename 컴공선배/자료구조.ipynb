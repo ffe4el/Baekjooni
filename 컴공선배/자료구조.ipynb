{
 "cells": [
  {
   "cell_type": "code",
   "execution_count": 18,
   "metadata": {
    "collapsed": true
   },
   "outputs": [
    {
     "name": "stdout",
     "output_type": "stream",
     "text": [
      "NO\n",
      "NO\n",
      "YES\n",
      "NO\n",
      "YES\n",
      "NO\n"
     ]
    }
   ],
   "source": [
    "# 9012 괄호\n",
    "\n",
    "tc = int(input())\n",
    "for j in range(tc):\n",
    "    n = list(input())\n",
    "    cnt = 0\n",
    "    cntt = 0\n",
    "    for i in range(len(n)):\n",
    "        if n[i] ==\"(\":\n",
    "            cnt += 1\n",
    "        elif n[i] == \")\":\n",
    "            cntt += 1\n",
    "            if cntt > cnt :\n",
    "                break;\n",
    "\n",
    "    if cnt == cntt:\n",
    "        print(\"YES\")\n",
    "    else :\n",
    "        print(\"NO\")"
   ]
  },
  {
   "cell_type": "code",
   "execution_count": null,
   "outputs": [],
   "source": [
    "# 9012 선배팁\n",
    "\n",
    "for i in range(int(input())):\n",
    "    stk = []\n"
   ],
   "metadata": {
    "collapsed": false
   }
  }
 ],
 "metadata": {
  "kernelspec": {
   "display_name": "Python 3",
   "language": "python",
   "name": "python3"
  },
  "language_info": {
   "codemirror_mode": {
    "name": "ipython",
    "version": 2
   },
   "file_extension": ".py",
   "mimetype": "text/x-python",
   "name": "python",
   "nbconvert_exporter": "python",
   "pygments_lexer": "ipython2",
   "version": "2.7.6"
  }
 },
 "nbformat": 4,
 "nbformat_minor": 0
}
