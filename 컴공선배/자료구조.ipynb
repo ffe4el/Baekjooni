{
 "cells": [
  {
   "cell_type": "code",
   "execution_count": 18,
   "metadata": {
    "collapsed": true
   },
   "outputs": [
    {
     "name": "stdout",
     "output_type": "stream",
     "text": [
      "NO\n",
      "NO\n",
      "YES\n",
      "NO\n",
      "YES\n",
      "NO\n"
     ]
    }
   ],
   "source": [
    "# 9012 괄호\n",
    "\n",
    "tc = int(input())\n",
    "for j in range(tc):\n",
    "    n = list(input())\n",
    "    cnt = 0\n",
    "    cntt = 0\n",
    "    for i in range(len(n)):\n",
    "        if n[i] ==\"(\":\n",
    "            cnt += 1\n",
    "        elif n[i] == \")\":\n",
    "            cntt += 1\n",
    "            if cntt > cnt :\n",
    "                break;\n",
    "\n",
    "    if cnt == cntt:\n",
    "        print(\"YES\")\n",
    "    else :\n",
    "        print(\"NO\")"
   ]
  },
  {
   "cell_type": "code",
   "execution_count": 1,
   "outputs": [
    {
     "name": "stdout",
     "output_type": "stream",
     "text": [
      "NO\n",
      "NO\n",
      "NO\n"
     ]
    }
   ],
   "source": [
    "# 9012 선배팁\n",
    "\n",
    "for i in range(int(input())):\n",
    "    stk = []\n",
    "    isVPS = True\n",
    "    for ch in input():\n",
    "        if ch == \"(\":\n",
    "            stk.append(ch)\n",
    "        else :\n",
    "            if len(stk)>0:\n",
    "                stk.pop()\n",
    "            else :\n",
    "                isVPS = False\n",
    "                break\n",
    "    if len(stk)>0:\n",
    "        isVPS = False\n",
    "\n",
    "    print(\"YES\" if isVPS else \"NO\")\n",
    "\n",
    "\n",
    "\n"
   ],
   "metadata": {
    "collapsed": false
   }
  },
  {
   "cell_type": "code",
   "execution_count": 35,
   "outputs": [
    {
     "ename": "ValueError",
     "evalue": "invalid literal for int() with base 10: ''",
     "output_type": "error",
     "traceback": [
      "\u001B[0;31m---------------------------------------------------------------------------\u001B[0m",
      "\u001B[0;31mValueError\u001B[0m                                Traceback (most recent call last)",
      "\u001B[0;32m/var/folders/js/792bsrvx24lcg4nrdgy7k5br0000gn/T/ipykernel_23485/3920067173.py\u001B[0m in \u001B[0;36m<module>\u001B[0;34m\u001B[0m\n\u001B[1;32m      3\u001B[0m \u001B[0;34m\u001B[0m\u001B[0m\n\u001B[1;32m      4\u001B[0m \u001B[0mq\u001B[0m \u001B[0;34m=\u001B[0m \u001B[0mdeque\u001B[0m\u001B[0;34m(\u001B[0m\u001B[0;34m)\u001B[0m\u001B[0;34m\u001B[0m\u001B[0;34m\u001B[0m\u001B[0m\n\u001B[0;32m----> 5\u001B[0;31m \u001B[0;32mfor\u001B[0m \u001B[0mi\u001B[0m \u001B[0;32min\u001B[0m \u001B[0mrange\u001B[0m\u001B[0;34m(\u001B[0m\u001B[0;36m1\u001B[0m\u001B[0;34m,\u001B[0m \u001B[0mint\u001B[0m\u001B[0;34m(\u001B[0m\u001B[0minput\u001B[0m\u001B[0;34m(\u001B[0m\u001B[0;34m)\u001B[0m\u001B[0;34m)\u001B[0m\u001B[0;34m+\u001B[0m\u001B[0;36m1\u001B[0m\u001B[0;34m)\u001B[0m\u001B[0;34m:\u001B[0m\u001B[0;34m\u001B[0m\u001B[0;34m\u001B[0m\u001B[0m\n\u001B[0m\u001B[1;32m      6\u001B[0m     \u001B[0mq\u001B[0m\u001B[0;34m.\u001B[0m\u001B[0mappend\u001B[0m\u001B[0;34m(\u001B[0m\u001B[0mi\u001B[0m\u001B[0;34m)\u001B[0m\u001B[0;34m\u001B[0m\u001B[0;34m\u001B[0m\u001B[0m\n\u001B[1;32m      7\u001B[0m \u001B[0;34m\u001B[0m\u001B[0m\n",
      "\u001B[0;31mValueError\u001B[0m: invalid literal for int() with base 10: ''"
     ]
    }
   ],
   "source": [
    "# 2164 카드2문제\n",
    "from collections import deque\n",
    "\n",
    "q = deque()\n",
    "for i in range(1, int(input())+1):\n",
    "    q.append(i)\n",
    "\n",
    "# q = deque(range(1, n+1))\n",
    "\n",
    "while len(q) > 1:\n",
    "    q.popleft()\n",
    "    #q.append(q.popleft()) 하면 밑에 두개와 같은 의미\n",
    "    q.append(q[0])\n",
    "    q.popleft()\n",
    "\n",
    "\n",
    "\n",
    "print(q[0])"
   ],
   "metadata": {
    "collapsed": false
   }
  },
  {
   "cell_type": "code",
   "execution_count": 5,
   "outputs": [
    {
     "ename": "ValueError",
     "evalue": "invalid literal for int() with base 10: ''",
     "output_type": "error",
     "traceback": [
      "\u001B[0;31m---------------------------------------------------------------------------\u001B[0m",
      "\u001B[0;31mValueError\u001B[0m                                Traceback (most recent call last)",
      "\u001B[0;32m/var/folders/js/792bsrvx24lcg4nrdgy7k5br0000gn/T/ipykernel_25158/2805047251.py\u001B[0m in \u001B[0;36m<module>\u001B[0;34m\u001B[0m\n\u001B[1;32m      8\u001B[0m \u001B[0mpq\u001B[0m\u001B[0;34m=\u001B[0m\u001B[0;34m[\u001B[0m\u001B[0;34m]\u001B[0m\u001B[0;34m\u001B[0m\u001B[0;34m\u001B[0m\u001B[0m\n\u001B[1;32m      9\u001B[0m \u001B[0;34m\u001B[0m\u001B[0m\n\u001B[0;32m---> 10\u001B[0;31m \u001B[0;32mfor\u001B[0m \u001B[0mi\u001B[0m \u001B[0;32min\u001B[0m \u001B[0mrange\u001B[0m\u001B[0;34m(\u001B[0m\u001B[0mint\u001B[0m\u001B[0;34m(\u001B[0m\u001B[0minput\u001B[0m\u001B[0;34m(\u001B[0m\u001B[0;34m)\u001B[0m\u001B[0;34m)\u001B[0m\u001B[0;34m)\u001B[0m\u001B[0;34m:\u001B[0m\u001B[0;34m\u001B[0m\u001B[0;34m\u001B[0m\u001B[0m\n\u001B[0m\u001B[1;32m     11\u001B[0m     \u001B[0mx\u001B[0m \u001B[0;34m=\u001B[0m \u001B[0mint\u001B[0m\u001B[0;34m(\u001B[0m\u001B[0minput\u001B[0m\u001B[0;34m(\u001B[0m\u001B[0;34m)\u001B[0m\u001B[0;34m)\u001B[0m\u001B[0;34m\u001B[0m\u001B[0;34m\u001B[0m\u001B[0m\n\u001B[1;32m     12\u001B[0m     \u001B[0;32mif\u001B[0m \u001B[0mx\u001B[0m\u001B[0;34m:\u001B[0m \u001B[0;31m#만약 x가 0이 아니면\u001B[0m\u001B[0;34m\u001B[0m\u001B[0;34m\u001B[0m\u001B[0m\n",
      "\u001B[0;31mValueError\u001B[0m: invalid literal for int() with base 10: ''"
     ]
    }
   ],
   "source": [
    "# 11286 절댓값 힙\n",
    "\n",
    "import heapq as hq\n",
    "import sys\n",
    "\n",
    "input = sys.stdin.readline\n",
    "\n",
    "pq=[]\n",
    "\n",
    "for i in range(int(input())):\n",
    "    x = int(input())\n",
    "    for ch in x:\n",
    "        if x: #만약 x가 0이 아니면\n",
    "            hq.heappush(pq, (abs(ch),ch))\n",
    "        else :\n",
    "            print(hq.heappop(pq) if pq else 0)\n",
    "\n",
    "\n",
    "\n"
   ],
   "metadata": {
    "collapsed": false
   }
  }
 ],
 "metadata": {
  "kernelspec": {
   "display_name": "Python 3",
   "language": "python",
   "name": "python3"
  },
  "language_info": {
   "codemirror_mode": {
    "name": "ipython",
    "version": 2
   },
   "file_extension": ".py",
   "mimetype": "text/x-python",
   "name": "python",
   "nbconvert_exporter": "python",
   "pygments_lexer": "ipython2",
   "version": "2.7.6"
  }
 },
 "nbformat": 4,
 "nbformat_minor": 0
}
