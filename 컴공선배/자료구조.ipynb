{
 "cells": [
  {
   "cell_type": "code",
   "execution_count": 18,
   "metadata": {
    "collapsed": true
   },
   "outputs": [
    {
     "name": "stdout",
     "output_type": "stream",
     "text": [
      "NO\n",
      "NO\n",
      "YES\n",
      "NO\n",
      "YES\n",
      "NO\n"
     ]
    }
   ],
   "source": [
    "# 9012 괄호\n",
    "\n",
    "tc = int(input())\n",
    "for j in range(tc):\n",
    "    n = list(input())\n",
    "    cnt = 0\n",
    "    cntt = 0\n",
    "    for i in range(len(n)):\n",
    "        if n[i] ==\"(\":\n",
    "            cnt += 1\n",
    "        elif n[i] == \")\":\n",
    "            cntt += 1\n",
    "            if cntt > cnt :\n",
    "                break;\n",
    "\n",
    "    if cnt == cntt:\n",
    "        print(\"YES\")\n",
    "    else :\n",
    "        print(\"NO\")"
   ]
  },
  {
   "cell_type": "code",
   "execution_count": 1,
   "outputs": [
    {
     "name": "stdout",
     "output_type": "stream",
     "text": [
      "NO\n",
      "NO\n",
      "NO\n"
     ]
    }
   ],
   "source": [
    "# 9012 선배팁\n",
    "\n",
    "for i in range(int(input())):\n",
    "    stk = []\n",
    "    isVPS = True\n",
    "    for ch in input():\n",
    "        if ch == \"(\":\n",
    "            stk.append(ch)\n",
    "        else :\n",
    "            if len(stk)>0:\n",
    "                stk.pop()\n",
    "            else :\n",
    "                isVPS = False\n",
    "                break\n",
    "    if len(stk)>0:\n",
    "        isVPS = False\n",
    "\n",
    "    print(\"YES\" if isVPS else \"NO\")\n",
    "\n",
    "\n",
    "\n"
   ],
   "metadata": {
    "collapsed": false
   }
  },
  {
   "cell_type": "code",
   "execution_count": 7,
   "outputs": [
    {
     "name": "stdout",
     "output_type": "stream",
     "text": [
      "deque([5])\n"
     ]
    }
   ],
   "source": [
    "# 2164 카드2문제\n",
    "from collections import deque\n",
    "\n",
    "q = deque()\n",
    "for i in range(1, int(input())+1):\n",
    "    q.append(i)\n",
    "\n",
    "while len(q) > 1:\n",
    "    q.popleft()\n",
    "    q[-1] = q[0]\n",
    "    q.popleft()\n",
    "\n",
    "print(q)\n",
    "\n"
   ],
   "metadata": {
    "collapsed": false
   }
  }
 ],
 "metadata": {
  "kernelspec": {
   "display_name": "Python 3",
   "language": "python",
   "name": "python3"
  },
  "language_info": {
   "codemirror_mode": {
    "name": "ipython",
    "version": 2
   },
   "file_extension": ".py",
   "mimetype": "text/x-python",
   "name": "python",
   "nbconvert_exporter": "python",
   "pygments_lexer": "ipython2",
   "version": "2.7.6"
  }
 },
 "nbformat": 4,
 "nbformat_minor": 0
}
