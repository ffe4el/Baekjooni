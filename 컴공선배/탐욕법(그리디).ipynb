{
 "cells": [
  {
   "cell_type": "markdown",
   "source": [
    "탐욕법 : 매순간마다 최선의 경우만을 골라간다.\n",
    "다른 경우는 생각하지 않는다. 나중은 생각하지 않는다..."
   ],
   "metadata": {
    "collapsed": false
   }
  },
  {
   "cell_type": "code",
   "execution_count": 1,
   "metadata": {
    "collapsed": true
   },
   "outputs": [
    {
     "name": "stdout",
     "output_type": "stream",
     "text": [
      "100000000\n"
     ]
    }
   ],
   "source": [
    "# 11047 동전\n",
    "import sys\n",
    "\n",
    "# input = sys.stdin.readline\n",
    "n, k = map(int, input().split())\n",
    "a=[]\n",
    "cnt = 0\n",
    "\n",
    "for _ in range(n):\n",
    "    a.append(int(input()))\n",
    "\n",
    "for i in range(n-1,-1,-1):\n",
    "    if a[i] <= k:\n",
    "        while(k >= a[i]):\n",
    "            k = k - a[i]\n",
    "            # print(a[i])\n",
    "            cnt += 1\n",
    "\n",
    "print(cnt)\n",
    "#=> ㅅㅂ 시간초과?"
   ]
  }
 ],
 "metadata": {
  "kernelspec": {
   "display_name": "Python 3",
   "language": "python",
   "name": "python3"
  },
  "language_info": {
   "codemirror_mode": {
    "name": "ipython",
    "version": 2
   },
   "file_extension": ".py",
   "mimetype": "text/x-python",
   "name": "python",
   "nbconvert_exporter": "python",
   "pygments_lexer": "ipython2",
   "version": "2.7.6"
  }
 },
 "nbformat": 4,
 "nbformat_minor": 0
}
