{
 "cells": [
  {
   "cell_type": "markdown",
   "source": [
    "탐욕법 : 매순간마다 최선의 경우만을 골라간다.\n",
    "다른 경우는 생각하지 않는다. 나중은 생각하지 않는다..."
   ],
   "metadata": {
    "collapsed": false
   }
  },
  {
   "cell_type": "code",
   "execution_count": 1,
   "metadata": {
    "collapsed": true
   },
   "outputs": [
    {
     "name": "stdout",
     "output_type": "stream",
     "text": [
      "100000000\n"
     ]
    }
   ],
   "source": [
    "# 11047 동전\n",
    "import sys\n",
    "\n",
    "# input = sys.stdin.readline\n",
    "n, k = map(int, input().split())\n",
    "a=[]\n",
    "cnt = 0\n",
    "\n",
    "for _ in range(n):\n",
    "    a.append(int(input()))\n",
    "\n",
    "for i in range(n-1,-1,-1):\n",
    "    if a[i] <= k:\n",
    "        while(k >= a[i]):\n",
    "            k = k - a[i]\n",
    "            # print(a[i])\n",
    "            cnt += 1\n",
    "\n",
    "print(cnt)\n",
    "#=> ㅅㅂ 시간초과?"
   ]
  },
  {
   "cell_type": "code",
   "execution_count": 5,
   "outputs": [
    {
     "name": "stdout",
     "output_type": "stream",
     "text": [
      "6\n"
     ]
    }
   ],
   "source": [
    "# 11047 동전 이건 선배 풀이인데, 왜 이건 시간초과가 안되는거지? 이해를 못하겠슴둥!\n",
    "\n",
    "n, k =map(int, input().split())\n",
    "coins = [int(input()) for _ in range(n)]\n",
    "coins.reverse() #코인이 들어간 배열을 내림차순으로 바꾸기\n",
    "\n",
    "cnt = 0\n",
    "\n",
    "for coin in coins:\n",
    "    while(k >= coin):\n",
    "        cnt += k // coin #몫\n",
    "        k = k % coin\n",
    "\n",
    "print(cnt)"
   ],
   "metadata": {
    "collapsed": false
   }
  },
  {
   "cell_type": "code",
   "execution_count": 4,
   "outputs": [
    {
     "name": "stdout",
     "output_type": "stream",
     "text": [
      "6\n"
     ]
    }
   ],
   "source": [
    "# 11047 동전 이건 선배 풀이랑 내꺼 짬뽕인데...\n",
    "\n",
    "n, k =map(int, input().split())\n",
    "coins = [int(input()) for _ in range(n)]\n",
    "coins.reverse() #코인이 들어간 배열을 내림차순으로 바꾸기\n",
    "\n",
    "cnt = 0\n",
    "\n",
    "for coin in coins:\n",
    "    while(k >= coin):\n",
    "        k = k - coin\n",
    "        #일일이 빼는것이...시간이 오래걸리는것같다. 그러니 빼기 말고, 위에 방법처럼 몫이랑 나머지를 이용해서 푸는게 시간이 덜 걸리겠다...ㅠㅠ\n",
    "        cnt += 1\n",
    "\n",
    "print(cnt)\n"
   ],
   "metadata": {
    "collapsed": false
   }
  },
  {
   "cell_type": "code",
   "execution_count": 16,
   "outputs": [
    {
     "name": "stdout",
     "output_type": "stream",
     "text": [
      "4\n"
     ]
    }
   ],
   "source": [
    "# 1449 수리공 항승 => 선배 풀이\n",
    "\n",
    "n, l = map(int, input().split())\n",
    "# x = list(map(int, input().split()))\n",
    "a = [False]*1001\n",
    "for i in map(int,input().split()):\n",
    "    a[i] = True\n",
    "\n",
    "cnt = 0 # 테이프 개수\n",
    "x = 0 # 현재 위치\n",
    "while(x<1001):\n",
    "    if a[x]:\n",
    "        cnt += 1\n",
    "        x += l\n",
    "    else :\n",
    "        x += 1\n",
    "\n",
    "print(cnt)\n"
   ],
   "metadata": {
    "collapsed": false
   }
  },
  {
   "cell_type": "code",
   "execution_count": null,
   "outputs": [],
   "source": [],
   "metadata": {
    "collapsed": false
   }
  }
 ],
 "metadata": {
  "kernelspec": {
   "display_name": "Python 3",
   "language": "python",
   "name": "python3"
  },
  "language_info": {
   "codemirror_mode": {
    "name": "ipython",
    "version": 2
   },
   "file_extension": ".py",
   "mimetype": "text/x-python",
   "name": "python",
   "nbconvert_exporter": "python",
   "pygments_lexer": "ipython2",
   "version": "2.7.6"
  }
 },
 "nbformat": 4,
 "nbformat_minor": 0
}
