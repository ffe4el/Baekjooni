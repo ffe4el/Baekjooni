{
 "cells": [
  {
   "cell_type": "code",
   "execution_count": 1,
   "metadata": {
    "collapsed": true
   },
   "outputs": [
    {
     "name": "stdout",
     "output_type": "stream",
     "text": [
      "[[0, 0, 0, 0, 0, 0, 0, 0, 0, 0, 0, 0, 0], [0, 0, 0, 0, 0, 0, 0, 0, 0, 0, 0, 0, 0], [0, 0, 0, 0, 0, 0, 0, 0, 0, 0, 0, 0, 0], [0, 0, 0, 0, 0, 0, 0, 0, 0, 0, 0, 0, 0], [0, 0, 0, 0, 0, 0, 0, 0, 0, 0, 0, 0, 0], [0, 0, 0, 0, 0, 0, 0, 0, 0, 0, 0, 0, 0], [0, 0, 0, 0, 0, 0, 0, 0, 0, 0, 0, 0, 0], [0, 0, 0, 0, 0, 0, 0, 0, 0, 0, 0, 0, 0], [0, 0, 0, 0, 0, 0, 0, 0, 0, 0, 0, 0, 0], [0, 0, 0, 0, 0, 0, 0, 0, 0, 0, 0, 0, 0], [0, 0, 0, 0, 0, 0, 0, 0, 0, 0, 0, 0, 0], [0, 0, 0, 0, 0, 0, 0, 0, 0, 0, 0, 0, 0], [0, 0, 0, 0, 0, 0, 0, 0, 0, 0, 0, 0, 0]]\n"
     ]
    }
   ],
   "source": [
    "#DFS 깊이 우선 탐색 => 구현\n",
    "\n",
    "# 인접행렬 adj\n",
    "adj = [[0]*13 for i in range(13)]\n",
    "# print(adj)\n",
    "adj[0][1] = adj[0][7] =1\n",
    "adj[1][2] = adj[1][5] =1\n",
    "# ...\n",
    "\n",
    "\n",
    "def dfs(now):\n",
    "    for nxt in range(13):\n",
    "        if adj[now][nxt]: #adj[now][nxt]가 1이라면\n",
    "            dfs(nxt)\n",
    "\n",
    "dfs(0)\n"
   ]
  },
  {
   "cell_type": "code",
   "execution_count": 4,
   "outputs": [],
   "source": [
    "#BFS 너비 우선 탐색 => 구현\n",
    "\n",
    "from collections import deque\n",
    "\n",
    "# 인접행렬 adj\n",
    "adj = [[0]*13 for i in range(13)]\n",
    "# print(adj)\n",
    "adj[0][1] = adj[0][2] =1\n",
    "adj[1][3] = adj[1][4] =1\n",
    "# ...\n",
    "\n",
    "\n",
    "def bfs():\n",
    "    dq = deque()\n",
    "    dq.append(0) # 초기화\n",
    "    while dq:\n",
    "        now = dq.popleft()\n",
    "        for nxt in range(13): # dq에 계속 값이 들어가게 되면, 리프노드가 나올것이고, 리프노드 이후에는 넣을 nxt숫자가 없으니 그대로 끝\n",
    "            if adj[now][nxt]:\n",
    "                dq.append(nxt)\n",
    "\n",
    "bfs()\n",
    "\n"
   ],
   "metadata": {
    "collapsed": false
   }
  }
 ],
 "metadata": {
  "kernelspec": {
   "display_name": "Python 3",
   "language": "python",
   "name": "python3"
  },
  "language_info": {
   "codemirror_mode": {
    "name": "ipython",
    "version": 2
   },
   "file_extension": ".py",
   "mimetype": "text/x-python",
   "name": "python",
   "nbconvert_exporter": "python",
   "pygments_lexer": "ipython2",
   "version": "2.7.6"
  }
 },
 "nbformat": 4,
 "nbformat_minor": 0
}
