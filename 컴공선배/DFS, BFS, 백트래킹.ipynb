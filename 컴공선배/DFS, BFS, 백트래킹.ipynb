{
 "cells": [
  {
   "cell_type": "code",
   "execution_count": 1,
   "metadata": {
    "collapsed": true
   },
   "outputs": [
    {
     "name": "stdout",
     "output_type": "stream",
     "text": [
      "[[0, 0, 0, 0, 0, 0, 0, 0, 0, 0, 0, 0, 0], [0, 0, 0, 0, 0, 0, 0, 0, 0, 0, 0, 0, 0], [0, 0, 0, 0, 0, 0, 0, 0, 0, 0, 0, 0, 0], [0, 0, 0, 0, 0, 0, 0, 0, 0, 0, 0, 0, 0], [0, 0, 0, 0, 0, 0, 0, 0, 0, 0, 0, 0, 0], [0, 0, 0, 0, 0, 0, 0, 0, 0, 0, 0, 0, 0], [0, 0, 0, 0, 0, 0, 0, 0, 0, 0, 0, 0, 0], [0, 0, 0, 0, 0, 0, 0, 0, 0, 0, 0, 0, 0], [0, 0, 0, 0, 0, 0, 0, 0, 0, 0, 0, 0, 0], [0, 0, 0, 0, 0, 0, 0, 0, 0, 0, 0, 0, 0], [0, 0, 0, 0, 0, 0, 0, 0, 0, 0, 0, 0, 0], [0, 0, 0, 0, 0, 0, 0, 0, 0, 0, 0, 0, 0], [0, 0, 0, 0, 0, 0, 0, 0, 0, 0, 0, 0, 0]]\n"
     ]
    }
   ],
   "source": [
    "#DFS 깊이 우선 탐색 => 구현\n",
    "\n",
    "# 인접행렬 adj\n",
    "adj = [[0]*13 for i in range(13)]\n",
    "# print(adj)\n",
    "adj[0][1] = adj[0][7] =1\n",
    "adj[1][2] = adj[1][5] =1\n",
    "# ...\n",
    "\n",
    "\n",
    "def dfs(now):\n",
    "    for nxt in range(13):\n",
    "        if adj[now][nxt]: #adj[now][nxt]가 1이라면\n",
    "            dfs(nxt)\n",
    "\n",
    "dfs(0)\n"
   ]
  },
  {
   "cell_type": "code",
   "execution_count": 4,
   "outputs": [],
   "source": [
    "#BFS 너비 우선 탐색 => 구현\n",
    "\n",
    "from collections import deque\n",
    "\n",
    "# 인접행렬 adj\n",
    "adj = [[0]*13 for i in range(13)]\n",
    "# print(adj)\n",
    "adj[0][1] = adj[0][2] =1\n",
    "adj[1][3] = adj[1][4] =1\n",
    "# ...\n",
    "\n",
    "\n",
    "def bfs():\n",
    "    dq = deque()\n",
    "    dq.append(0) # 초기화\n",
    "    while dq:\n",
    "        now = dq.popleft()\n",
    "        for nxt in range(13): # dq에 계속 값이 들어가게 되면, 리프노드가 나올것이고, 리프노드 이후에는 넣을 nxt숫자가 없으니 그대로 끝\n",
    "            if adj[now][nxt]:\n",
    "                dq.append(nxt)\n",
    "\n",
    "bfs()\n",
    "\n"
   ],
   "metadata": {
    "collapsed": false
   }
  },
  {
   "cell_type": "code",
   "execution_count": null,
   "outputs": [],
   "source": [
    "# 길찾기 문제 DFS\n",
    "\n",
    "dy = (0,1,0,-1)\n",
    "dx = (1,0,-1,0)\n",
    "chk = [[False]*100 for _ in range(100)]\n",
    "n = int(input())\n",
    "\n",
    "def is_vaild_coord(y, x):\n",
    "    return  0<=y<n and 0<=x<n\n",
    "\n",
    "def DFS(y,x):\n",
    "    chk[y][x] = True\n",
    "    for i in range(4):\n",
    "        ny = y + dy[i]\n",
    "        nx = x + dy[i]\n",
    "        if (is_vaild_coord(ny, nx) and not chk[ny][nx]):\n",
    "            DFS(ny, nx)\n",
    "\n",
    "\n",
    "\n",
    "\n"
   ],
   "metadata": {
    "collapsed": false
   }
  },
  {
   "cell_type": "code",
   "execution_count": 5,
   "outputs": [
    {
     "ename": "ValueError",
     "evalue": "invalid literal for int() with base 10: ''",
     "output_type": "error",
     "traceback": [
      "\u001B[0;31m---------------------------------------------------------------------------\u001B[0m",
      "\u001B[0;31mValueError\u001B[0m                                Traceback (most recent call last)",
      "\u001B[0;32m/var/folders/js/792bsrvx24lcg4nrdgy7k5br0000gn/T/ipykernel_6855/849069313.py\u001B[0m in \u001B[0;36m<module>\u001B[0;34m\u001B[0m\n\u001B[1;32m      5\u001B[0m \u001B[0mdx\u001B[0m \u001B[0;34m=\u001B[0m \u001B[0;34m(\u001B[0m\u001B[0;36m1\u001B[0m\u001B[0;34m,\u001B[0m \u001B[0;36m0\u001B[0m\u001B[0;34m,\u001B[0m \u001B[0;34m-\u001B[0m\u001B[0;36m1\u001B[0m \u001B[0;34m,\u001B[0m\u001B[0;36m0\u001B[0m\u001B[0;34m)\u001B[0m\u001B[0;34m\u001B[0m\u001B[0;34m\u001B[0m\u001B[0m\n\u001B[1;32m      6\u001B[0m \u001B[0mchk\u001B[0m \u001B[0;34m=\u001B[0m \u001B[0;34m[\u001B[0m\u001B[0;34m[\u001B[0m\u001B[0;32mFalse\u001B[0m\u001B[0;34m]\u001B[0m\u001B[0;34m*\u001B[0m\u001B[0;36m100\u001B[0m \u001B[0;32mfor\u001B[0m \u001B[0m_\u001B[0m \u001B[0;32min\u001B[0m \u001B[0mrange\u001B[0m\u001B[0;34m(\u001B[0m\u001B[0;36m100\u001B[0m\u001B[0;34m)\u001B[0m\u001B[0;34m]\u001B[0m\u001B[0;34m\u001B[0m\u001B[0;34m\u001B[0m\u001B[0m\n\u001B[0;32m----> 7\u001B[0;31m \u001B[0mn\u001B[0m \u001B[0;34m=\u001B[0m \u001B[0mint\u001B[0m\u001B[0;34m(\u001B[0m\u001B[0minput\u001B[0m\u001B[0;34m(\u001B[0m\u001B[0;34m)\u001B[0m\u001B[0;34m)\u001B[0m\u001B[0;34m\u001B[0m\u001B[0;34m\u001B[0m\u001B[0m\n\u001B[0m\u001B[1;32m      8\u001B[0m \u001B[0;34m\u001B[0m\u001B[0m\n\u001B[1;32m      9\u001B[0m \u001B[0;32mdef\u001B[0m \u001B[0mis_vaild_coord\u001B[0m\u001B[0;34m(\u001B[0m\u001B[0my\u001B[0m\u001B[0;34m,\u001B[0m \u001B[0mx\u001B[0m\u001B[0;34m)\u001B[0m\u001B[0;34m:\u001B[0m\u001B[0;34m\u001B[0m\u001B[0;34m\u001B[0m\u001B[0m\n",
      "\u001B[0;31mValueError\u001B[0m: invalid literal for int() with base 10: ''"
     ]
    }
   ],
   "source": [
    "# 길찾기 문제 BFS\n",
    "from collections import deque\n",
    "\n",
    "dy = (0, 1, 0, -1)\n",
    "dx = (1, 0, -1 ,0)\n",
    "chk = [[False]*100 for _ in range(100)]\n",
    "n = int(input())\n",
    "\n",
    "def is_vaild_coord(y, x):\n",
    "    return 0<=y<n and 0<=x<n\n",
    "\n",
    "def BFS(start_y, start_x):\n",
    "    q = deque()\n",
    "    q.append((start_y, start_x))\n",
    "    while q:\n",
    "        y,x = q.popleft()\n",
    "        chk[y][x] = True\n",
    "        for i in range(4):\n",
    "            ny = y + dy[i]\n",
    "            nx = x + dx[i]\n",
    "            if is_vaild_coord(ny, nx) and not chk[ny][nx]:\n",
    "                q.append(ny, nx)\n",
    "\n"
   ],
   "metadata": {
    "collapsed": false
   }
  },
  {
   "cell_type": "code",
   "execution_count": null,
   "outputs": [],
   "source": [
    "#11724 연결 요소의 개수\n",
    "\n",
    "n , m =map(int,input().split())\n",
    "\n",
    "# 인접행렬 만들기\n",
    "adj = [[0]*n for i in range(n)]\n",
    "\n",
    "for i in range(m):\n",
    "    a,b = map(lambda x: x-1, map(int, input().split()))\n",
    "\n",
    "[int(input()) for i in range(m)]\n"
   ],
   "metadata": {
    "collapsed": false
   }
  }
 ],
 "metadata": {
  "kernelspec": {
   "display_name": "Python 3",
   "language": "python",
   "name": "python3"
  },
  "language_info": {
   "codemirror_mode": {
    "name": "ipython",
    "version": 2
   },
   "file_extension": ".py",
   "mimetype": "text/x-python",
   "name": "python",
   "nbconvert_exporter": "python",
   "pygments_lexer": "ipython2",
   "version": "2.7.6"
  }
 },
 "nbformat": 4,
 "nbformat_minor": 0
}
