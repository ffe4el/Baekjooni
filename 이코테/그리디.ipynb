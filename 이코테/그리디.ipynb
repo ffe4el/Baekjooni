{
 "cells": [
  {
   "cell_type": "code",
   "execution_count": 12,
   "metadata": {
    "collapsed": true
   },
   "outputs": [
    {
     "name": "stdout",
     "output_type": "stream",
     "text": [
      "46\n"
     ]
    }
   ],
   "source": [
    "n, m, k= map(int,input().split())\n",
    "\n",
    "number = list(map(int, input().split()))\n",
    "number.sort(reverse=True) #내림차순\n",
    "\n",
    "result =0\n",
    "\n",
    "if number[0] == number[1]:\n",
    "    result = number[0]*m\n",
    "else:\n",
    "    value = m//(k+1)\n",
    "    remain = m%(k+1)\n",
    "    result = value*(number[0]*k + number[1])+(number[0]*remain)\n",
    "\n",
    "print(result)\n"
   ]
  }
 ],
 "metadata": {
  "kernelspec": {
   "display_name": "Python 3",
   "language": "python",
   "name": "python3"
  },
  "language_info": {
   "codemirror_mode": {
    "name": "ipython",
    "version": 2
   },
   "file_extension": ".py",
   "mimetype": "text/x-python",
   "name": "python",
   "nbconvert_exporter": "python",
   "pygments_lexer": "ipython2",
   "version": "2.7.6"
  }
 },
 "nbformat": 4,
 "nbformat_minor": 0
}
