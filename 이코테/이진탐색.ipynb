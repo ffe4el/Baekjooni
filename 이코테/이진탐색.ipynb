{
 "cells": [
  {
   "cell_type": "code",
   "execution_count": 1,
   "metadata": {
    "collapsed": true
   },
   "outputs": [
    {
     "ename": "IndexError",
     "evalue": "list index out of range",
     "output_type": "error",
     "traceback": [
      "\u001B[0;31m---------------------------------------------------------------------------\u001B[0m",
      "\u001B[0;31mIndexError\u001B[0m                                Traceback (most recent call last)",
      "\u001B[0;32m/var/folders/pt/xk6c0b5907z_9txgpjnm7d000000gn/T/ipykernel_40875/3147892993.py\u001B[0m in \u001B[0;36m<module>\u001B[0;34m\u001B[0m\n\u001B[1;32m      7\u001B[0m \u001B[0;34m\u001B[0m\u001B[0m\n\u001B[1;32m      8\u001B[0m \u001B[0minput_data\u001B[0m \u001B[0;34m=\u001B[0m \u001B[0minput\u001B[0m\u001B[0;34m(\u001B[0m\u001B[0;34m)\u001B[0m\u001B[0;34m.\u001B[0m\u001B[0msplit\u001B[0m\u001B[0;34m(\u001B[0m\u001B[0;34m)\u001B[0m\u001B[0;34m\u001B[0m\u001B[0;34m\u001B[0m\u001B[0m\n\u001B[0;32m----> 9\u001B[0;31m \u001B[0mn\u001B[0m\u001B[0;34m=\u001B[0m \u001B[0mint\u001B[0m\u001B[0;34m(\u001B[0m\u001B[0minput_data\u001B[0m\u001B[0;34m[\u001B[0m\u001B[0;36m0\u001B[0m\u001B[0;34m]\u001B[0m\u001B[0;34m)\u001B[0m \u001B[0;31m#원소의 개수\u001B[0m\u001B[0;34m\u001B[0m\u001B[0;34m\u001B[0m\u001B[0m\n\u001B[0m\u001B[1;32m     10\u001B[0m \u001B[0mtarget\u001B[0m \u001B[0;34m=\u001B[0m \u001B[0minput_data\u001B[0m\u001B[0;34m[\u001B[0m\u001B[0;36m1\u001B[0m\u001B[0;34m]\u001B[0m \u001B[0;31m# 찾고자하는 문자열\u001B[0m\u001B[0;34m\u001B[0m\u001B[0;34m\u001B[0m\u001B[0m\n\u001B[1;32m     11\u001B[0m \u001B[0;34m\u001B[0m\u001B[0m\n",
      "\u001B[0;31mIndexError\u001B[0m: list index out of range"
     ]
    }
   ],
   "source": [
    "#순차탐색\n",
    "def sequential_search(n, target, array):\n",
    "    #각 원소를 하나씩 확인하며\n",
    "    for i in range(n):\n",
    "        if array[i] == target:\n",
    "            return i+1 #현재 위치 반환(인덱스는 0부터 시작하므로 1 더하기)\n",
    "\n",
    "input_data = input().split()\n",
    "n= int(input_data[0]) #원소의 개수\n",
    "target = input_data[1] # 찾고자하는 문자열\n",
    "\n",
    "array = input().split()\n",
    "\n",
    "#순차탐색 수행 결과 출력\n",
    "print(sequential_search(n, target, array))"
   ]
  },
  {
   "cell_type": "code",
   "execution_count": null,
   "outputs": [],
   "source": [
    "#이진 탐색(재귀)\n",
    "def binary_search(array, target, start, end):\n",
    "    if start > end:\n",
    "        return None\n",
    "    mid = (start + end) // 2\n",
    "    #찾은 경우 중간점 인덱스를 반환\n",
    "    if array[mid] ==target:\n",
    "        return mid\n",
    "    #중간점의 값보다 찾는 값이 작은 경우 => 왼쪽확인\n",
    "    elif array[mid] > target:\n",
    "        return binary_search(array, target, start, mid-1)\n",
    "    #중간점의 값보다 찾는 값이 큰 경우 => 오른쪽확인\n",
    "    elif array[mid] < target:\n",
    "        return binary_search(array, target, mid+1 , end)\n",
    "\n",
    "n, target = list(map(int, input().split()))\n",
    "array =  list(map(int, input().split()))\n",
    "\n",
    "#결과 출력\n",
    "result = binary_search(array, target, 0, n-1)\n",
    "if result is None:\n",
    "    print(\"원소 존재하지 않음\")\n",
    "else :\n",
    "    print(result+1)"
   ],
   "metadata": {
    "collapsed": false
   }
  },
  {
   "cell_type": "code",
   "execution_count": null,
   "outputs": [],
   "source": [
    "#이진 탐색(반복)\n",
    "def binary_search(array, target, start, end):\n",
    "    while start <= end:\n",
    "        mid = (start + end)//2\n",
    "        #찾은 경우 중간점 인덱스를 반환\n",
    "        if array[mid] ==target:\n",
    "            return mid\n",
    "        #중간점의 값보다 찾는 값이 작은 경우 => 왼쪽확인\n",
    "        elif array[mid] > target:\n",
    "            end = mid -1\n",
    "        #중간점의 값보다 찾는 값이 큰 경우 => 오른쪽확인\n",
    "        else:\n",
    "            start = mid +1\n",
    "    return None\n",
    "\n",
    "n, target = list(map(int, input().split()))\n",
    "array =  list(map(int, input().split()))\n",
    "\n",
    "#결과 출력\n",
    "result = binary_search(array, target, 0, n-1)\n",
    "if result is None:\n",
    "    print(\"원소 존재하지 않음\")\n",
    "else :\n",
    "    print(result+1)"
   ],
   "metadata": {
    "collapsed": false
   }
  },
  {
   "cell_type": "code",
   "execution_count": 4,
   "outputs": [
    {
     "name": "stdout",
     "output_type": "stream",
     "text": [
      "no yes yes "
     ]
    }
   ],
   "source": [
    "#부품 찾기(이진 탐색 이용)\n",
    "def binary_search(arr, target, start, end):\n",
    "    if start > end:\n",
    "        return None\n",
    "    mid = (start + end) // 2\n",
    "    if arr[mid] == target:\n",
    "        return mid\n",
    "    elif arr[mid] < target:\n",
    "        return binary_search(arr, target, mid+1, end)\n",
    "    else :\n",
    "        return binary_search(arr, target, start, mid-1)\n",
    "\n",
    "\n",
    "n = int(input())\n",
    "a = list(map(int, input().split()))\n",
    "a.sort() #사전 정렬\n",
    "\n",
    "m = int(input())\n",
    "b = list(map(int, input().split()))\n",
    "b.sort() #사전 정렬(굳이 할 필요는 없다)\n",
    "\n",
    "for i in range(len(b)):\n",
    "    if binary_search(a, b[i], 0, len(a)-1):\n",
    "        print(\"yes\", end=' ')\n",
    "    else :\n",
    "        print(\"no\", end=' ')"
   ],
   "metadata": {
    "collapsed": false
   }
  },
  {
   "cell_type": "code",
   "execution_count": 6,
   "outputs": [
    {
     "name": "stdout",
     "output_type": "stream",
     "text": [
      "no yes yes "
     ]
    }
   ],
   "source": [
    "#부품 찾기(계수 정렬 이용)\n",
    "\n",
    "cmp = [0]*1000001\n",
    "\n",
    "n = int(input())\n",
    "a = list(map(int, input().split()))\n",
    "\n",
    "for aa in a:\n",
    "    cmp[aa] += 1\n",
    "\n",
    "m = int(input())\n",
    "b = list(map(int, input().split()))\n",
    "\n",
    "for bb in b:\n",
    "    if cmp[bb] != 0:\n",
    "        print(\"yes\", end=' ')\n",
    "    else:\n",
    "        print(\"no\", end=' ')"
   ],
   "metadata": {
    "collapsed": false
   }
  },
  {
   "cell_type": "code",
   "execution_count": 13,
   "outputs": [
    {
     "name": "stdout",
     "output_type": "stream",
     "text": [
      "yes yes no "
     ]
    }
   ],
   "source": [
    "#부품 찾기(집합 자료형 이용)\n",
    "\n",
    "n = int(input())\n",
    "# 가게에 있는 전체 부품 번호를 입력받아서 집합(set) 자료형에 기록\n",
    "a = set(map(int, input().split()))\n",
    "\n",
    "m = int(input())\n",
    "b = list(map(int, input().split()))\n",
    "\n",
    "for i in b:\n",
    "    if i in a: #해당 부품이 집합내에 존재하는지 확인\n",
    "        print(\"yes\", end=' ')\n",
    "    else:\n",
    "        print(\"no\", end=' ')"
   ],
   "metadata": {
    "collapsed": false
   }
  },
  {
   "cell_type": "code",
   "execution_count": 27,
   "outputs": [
    {
     "name": "stdout",
     "output_type": "stream",
     "text": [
      "15\n"
     ]
    }
   ],
   "source": [
    "#떡볶이 떡 만들기\n",
    "\n",
    "n, m = map(int, input().split())\n",
    "arr  = list(map(int,input().split()))\n",
    "\n",
    "#이진 탐색을 위한 시작점과 끝점 설정\n",
    "a= 0\n",
    "b= max(arr)\n",
    "\n",
    "result = 0\n",
    "while a <= b:\n",
    "    total = 0\n",
    "    mid = (a+b) // 2\n",
    "    for i in range(n):\n",
    "        if arr[i] >= mid:\n",
    "            total += arr[i] - mid\n",
    "    if total < m: #잘린떡의 길이가 m보다 작을때\n",
    "        b = mid-1\n",
    "    else :\n",
    "        result = mid\n",
    "        a = mid+1\n",
    "\n",
    "print(result)"
   ],
   "metadata": {
    "collapsed": false
   }
  },
  {
   "cell_type": "code",
   "execution_count": 23,
   "outputs": [],
   "source": [],
   "metadata": {
    "collapsed": false
   }
  }
 ],
 "metadata": {
  "kernelspec": {
   "display_name": "Python 3",
   "language": "python",
   "name": "python3"
  },
  "language_info": {
   "codemirror_mode": {
    "name": "ipython",
    "version": 2
   },
   "file_extension": ".py",
   "mimetype": "text/x-python",
   "name": "python",
   "nbconvert_exporter": "python",
   "pygments_lexer": "ipython2",
   "version": "2.7.6"
  }
 },
 "nbformat": 4,
 "nbformat_minor": 0
}
