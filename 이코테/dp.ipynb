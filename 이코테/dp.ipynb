{
 "cells": [
  {
   "cell_type": "code",
   "execution_count": null,
   "metadata": {
    "collapsed": true
   },
   "outputs": [],
   "source": [
    "# 피보나치 수열\n",
    "def fibo(x):\n",
    "    if x==1 or x==2:\n",
    "        return 1\n",
    "    return fibo(x-1) + fibo(x-2)\n",
    "\n",
    "print(fibo(4))"
   ]
  },
  {
   "cell_type": "code",
   "execution_count": 3,
   "outputs": [
    {
     "name": "stdout",
     "output_type": "stream",
     "text": [
      "218922995834555169026\n"
     ]
    }
   ],
   "source": [
    "# 피보나치 수열 (재귀적)\n",
    "\n",
    "# 한 번 계산된 결과를 메모이제이션하기 위한 리스트 초기화\n",
    "d = [0]*100\n",
    "\n",
    "# 피보나치 함수를 재귀함수로 구현(탑다운 다이나믹 프로그래밍)\n",
    "def fibo(x):\n",
    "    # 종료 조건(1 혹은 2일때 1을 반환\n",
    "    if x==1 or x==2:\n",
    "        return 1\n",
    "    # 이미 계산한 적이 있는 문제라면 그대로 반환\n",
    "    if d[x]!=0:\n",
    "        return d[x]\n",
    "    # 아직 계산하지 않은 문제라면 점화식에 따라서 피보나치 결과 반환\n",
    "    d[x] = fibo(x-1) + fibo(x-2)\n",
    "    return d[x]\n",
    "\n",
    "print(fibo(99))"
   ],
   "metadata": {
    "collapsed": false
   }
  },
  {
   "cell_type": "code",
   "execution_count": 6,
   "outputs": [
    {
     "name": "stdout",
     "output_type": "stream",
     "text": [
      "218922995834555169026\n"
     ]
    }
   ],
   "source": [
    "# 피보나치 수열(반복적)\n",
    "\n",
    "#앞서 계싼된 결과를 저장하기 위한 DP 테이블 초기화\n",
    "d = [0]*100\n",
    "\n",
    "#첫번째 피보나치 수아 두번째 피보나치 수는 1\n",
    "d[1]= 1\n",
    "d[2]= 1\n",
    "n=99\n",
    "\n",
    "#바텀업 다이나믹 프로그래밍\n",
    "for i in range(3, n+1):\n",
    "    d[i] = d[i-1]+d[i-2]\n",
    "\n",
    "print(d[n])"
   ],
   "metadata": {
    "collapsed": false
   }
  },
  {
   "cell_type": "code",
   "execution_count": 15,
   "outputs": [
    {
     "name": "stdout",
     "output_type": "stream",
     "text": [
      "3\n"
     ]
    }
   ],
   "source": [
    "#1로 만들기 (답지보고 함...)\n",
    "\n",
    "#앞서 계산된 결과를 저장하기 위한 DP 테이블 초기화\n",
    "arr = [0] * 30001\n",
    "\n",
    "#정수 n 입력받기\n",
    "n = int(input())\n",
    "\n",
    "#다이나믹 프로그래밍 진행(바텀업)\n",
    "for i in range(2,n+1):\n",
    "    #현재의 수에서 1을 빼는 경우\n",
    "    arr[i] = arr[i-1]+1\n",
    "    #현재의 수가 2로 나누어떨어지는 경우\n",
    "    if i % 2 ==0:\n",
    "        arr[i] = min(arr[i], arr[i//2]+1)\n",
    "    #현재의 수가 3으로 나누어 떨어지는 경우\n",
    "    if i % 3 ==0:\n",
    "        arr[i] = min(arr[i], arr[i//3]+1)\n",
    "    #현재의 수가 5로 나누어 떨어지는 경우\n",
    "    if i % 5 ==0:\n",
    "        arr[i] = min(arr[i], arr[i//5]+1)\n",
    "\n",
    "print(arr[n])"
   ],
   "metadata": {
    "collapsed": false
   }
  },
  {
   "cell_type": "code",
   "execution_count": 16,
   "outputs": [
    {
     "ename": "ValueError",
     "evalue": "invalid literal for int() with base 10: ''",
     "output_type": "error",
     "traceback": [
      "\u001B[0;31m---------------------------------------------------------------------------\u001B[0m",
      "\u001B[0;31mValueError\u001B[0m                                Traceback (most recent call last)",
      "\u001B[0;32m/var/folders/pt/xk6c0b5907z_9txgpjnm7d000000gn/T/ipykernel_86098/3447069926.py\u001B[0m in \u001B[0;36m<module>\u001B[0;34m\u001B[0m\n\u001B[1;32m      1\u001B[0m \u001B[0;31m#개미 전사\u001B[0m\u001B[0;34m\u001B[0m\u001B[0;34m\u001B[0m\u001B[0m\n\u001B[1;32m      2\u001B[0m \u001B[0;34m\u001B[0m\u001B[0m\n\u001B[0;32m----> 3\u001B[0;31m \u001B[0mn\u001B[0m \u001B[0;34m=\u001B[0m \u001B[0mint\u001B[0m\u001B[0;34m(\u001B[0m\u001B[0minput\u001B[0m\u001B[0;34m(\u001B[0m\u001B[0;34m)\u001B[0m\u001B[0;34m)\u001B[0m\u001B[0;34m\u001B[0m\u001B[0;34m\u001B[0m\u001B[0m\n\u001B[0m",
      "\u001B[0;31mValueError\u001B[0m: invalid literal for int() with base 10: ''"
     ]
    }
   ],
   "source": [
    "#개미 전사\n",
    "\n",
    "n = int(input())\n",
    "arr = list(map(str, input().split()))\n",
    "\n",
    "m = round(n/2) #선택할 수 있는 최대 숫자 개수\n",
    "\n",
    "d=[0]*(m*m)\n",
    "\n",
    "for i in range():\n",
    "\n",
    "\n"
   ],
   "metadata": {
    "collapsed": false
   }
  },
  {
   "cell_type": "code",
   "execution_count": null,
   "outputs": [],
   "source": [],
   "metadata": {
    "collapsed": false
   }
  }
 ],
 "metadata": {
  "kernelspec": {
   "display_name": "Python 3",
   "language": "python",
   "name": "python3"
  },
  "language_info": {
   "codemirror_mode": {
    "name": "ipython",
    "version": 2
   },
   "file_extension": ".py",
   "mimetype": "text/x-python",
   "name": "python",
   "nbconvert_exporter": "python",
   "pygments_lexer": "ipython2",
   "version": "2.7.6"
  }
 },
 "nbformat": 4,
 "nbformat_minor": 0
}
