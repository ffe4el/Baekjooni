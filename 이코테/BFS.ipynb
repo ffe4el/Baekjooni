{
 "cells": [
  {
   "cell_type": "code",
   "execution_count": 1,
   "metadata": {
    "collapsed": true
   },
   "outputs": [
    {
     "name": "stdout",
     "output_type": "stream",
     "text": [
      "1 2 3 8 7 4 5 6 "
     ]
    }
   ],
   "source": [
    "from _collections import deque\n",
    "\n",
    "def bfs(graph, start, visited):\n",
    "    queue = deque([start]) #큐를 초기화하면서 시작 노드(start)를 큐에 넣음.\n",
    "    #현재 노드를 방문 처리\n",
    "    visited[start] = True\n",
    "\n",
    "    while queue: #큐가 빌 때까지 반복\n",
    "        #큐에서 하나의 원소를 뽑아 출력\n",
    "        v = queue.popleft()\n",
    "        print(v, end=' ')\n",
    "        #해당 원소와 연결된, 아직 방문하지 않은 원소들을 큐에 삽입\n",
    "        for i in graph[v]:\n",
    "            if not visited[i]:\n",
    "                queue.append(i)\n",
    "                visited[i] = True\n",
    "\n",
    "graph = [\n",
    "\t[],\n",
    "    [2, 3, 8],\n",
    "    [1, 7],\n",
    "    [1, 4, 5],\n",
    "    [3, 5],\n",
    "    [3, 4],\n",
    "    [7],\n",
    "    [2, 6, 8],\n",
    "    [1, 7]\n",
    "]\n",
    "\n",
    "visited = [False] * 9\n",
    "\n",
    "bfs(graph, 1, visited)\n"
   ]
  },
  {
   "cell_type": "code",
   "execution_count": 15,
   "outputs": [
    {
     "name": "stdout",
     "output_type": "stream",
     "text": [
      "10\n"
     ]
    }
   ],
   "source": [
    "# 미로 탈출\n",
    "from _collections import deque\n",
    "\n",
    "n , m =map(int, input().split())\n",
    "\n",
    "arr = []\n",
    "for i in range(n):\n",
    "    arr.append(list(map(int, input())))\n",
    "\n",
    "dx=[-1,1,0,0]\n",
    "dy=[0,0,-1,1]\n",
    "\n",
    "def bfs(y,x):\n",
    "    queue = deque()\n",
    "    queue.append((y,x))\n",
    "\n",
    "    while queue:\n",
    "        y,x = queue.popleft()\n",
    "        #현재 위치에서 네 방향으로의 위치 확인\n",
    "        for i in range(4):\n",
    "            nx = x+ dx[i]\n",
    "            ny = y+ dy[i]\n",
    "            if nx<0 or nx>=m or ny<0 or ny>=n:\n",
    "                continue\n",
    "            if arr[ny][nx] == 0: #못지나감!\n",
    "                continue\n",
    "            #해당 노드를 처음 방문하는 경우에만 최단 거리 기록\n",
    "            if arr[ny][nx] == 1:\n",
    "                arr[ny][nx] = arr[y][x]+1 #최단거리를 기록하며 그래프를 탐색해나감\n",
    "                queue.append((ny,nx))\n",
    "    #가장 오른쪽 아래까지의 최단 거리 반환\n",
    "    return arr[n-1][m-1]\n",
    "\n",
    "print(bfs(0,0))"
   ],
   "metadata": {
    "collapsed": false
   }
  },
  {
   "cell_type": "code",
   "execution_count": null,
   "outputs": [],
   "source": [],
   "metadata": {
    "collapsed": false
   }
  }
 ],
 "metadata": {
  "kernelspec": {
   "display_name": "Python 3",
   "language": "python",
   "name": "python3"
  },
  "language_info": {
   "codemirror_mode": {
    "name": "ipython",
    "version": 2
   },
   "file_extension": ".py",
   "mimetype": "text/x-python",
   "name": "python",
   "nbconvert_exporter": "python",
   "pygments_lexer": "ipython2",
   "version": "2.7.6"
  }
 },
 "nbformat": 4,
 "nbformat_minor": 0
}
