{
 "cells": [
  {
   "cell_type": "code",
   "execution_count": 4,
   "metadata": {
    "collapsed": true
   },
   "outputs": [
    {
     "name": "stdout",
     "output_type": "stream",
     "text": [
      "3 4\n"
     ]
    }
   ],
   "source": [
    "#상하좌우\n",
    "\n",
    "n = int(input())\n",
    "\n",
    "go = list(map(str,input().split()))\n",
    "x=1\n",
    "y=1\n",
    "\n",
    "for goes in go:\n",
    "    if goes=='D':\n",
    "        if x+1 > n:\n",
    "            continue\n",
    "        else :\n",
    "            x = x+1\n",
    "    elif goes=='U':\n",
    "        if x-1 <= 0:\n",
    "            continue\n",
    "        else :\n",
    "            x = x-1\n",
    "    elif goes=='R':\n",
    "        if y+1 > n:\n",
    "            continue\n",
    "        else :\n",
    "            y = y+1\n",
    "    elif goes=='L':\n",
    "        if y-1 <= 0:\n",
    "            continue\n",
    "        else :\n",
    "            y = y-1\n",
    "\n",
    "print(f\"{x} {y}\")\n",
    "\n"
   ]
  },
  {
   "cell_type": "code",
   "execution_count": 7,
   "outputs": [
    {
     "ename": "ValueError",
     "evalue": "invalid literal for int() with base 10: ''",
     "output_type": "error",
     "traceback": [
      "\u001B[0;31m---------------------------------------------------------------------------\u001B[0m",
      "\u001B[0;31mValueError\u001B[0m                                Traceback (most recent call last)",
      "\u001B[0;32m/var/folders/pt/xk6c0b5907z_9txgpjnm7d000000gn/T/ipykernel_11482/1626692095.py\u001B[0m in \u001B[0;36m<module>\u001B[0;34m\u001B[0m\n\u001B[1;32m      1\u001B[0m \u001B[0;31m#상하좌우 다른 답\u001B[0m\u001B[0;34m\u001B[0m\u001B[0;34m\u001B[0m\u001B[0m\n\u001B[1;32m      2\u001B[0m \u001B[0;34m\u001B[0m\u001B[0m\n\u001B[0;32m----> 3\u001B[0;31m \u001B[0mn\u001B[0m \u001B[0;34m=\u001B[0m \u001B[0mint\u001B[0m\u001B[0;34m(\u001B[0m\u001B[0minput\u001B[0m\u001B[0;34m(\u001B[0m\u001B[0;34m)\u001B[0m\u001B[0;34m)\u001B[0m\u001B[0;34m\u001B[0m\u001B[0;34m\u001B[0m\u001B[0m\n\u001B[0m\u001B[1;32m      4\u001B[0m \u001B[0mx\u001B[0m\u001B[0;34m,\u001B[0m\u001B[0my\u001B[0m\u001B[0;34m=\u001B[0m\u001B[0;36m1\u001B[0m\u001B[0;34m,\u001B[0m\u001B[0;36m1\u001B[0m\u001B[0;34m\u001B[0m\u001B[0;34m\u001B[0m\u001B[0m\n\u001B[1;32m      5\u001B[0m \u001B[0mplans\u001B[0m \u001B[0;34m=\u001B[0m \u001B[0minput\u001B[0m\u001B[0;34m(\u001B[0m\u001B[0;34m)\u001B[0m\u001B[0;34m.\u001B[0m\u001B[0msplit\u001B[0m\u001B[0;34m(\u001B[0m\u001B[0;34m)\u001B[0m\u001B[0;34m\u001B[0m\u001B[0;34m\u001B[0m\u001B[0m\n",
      "\u001B[0;31mValueError\u001B[0m: invalid literal for int() with base 10: ''"
     ]
    }
   ],
   "source": [
    "#상하좌우 다른 답\n",
    "\n",
    "n = int(input())\n",
    "x,y=1,1\n",
    "plans = input().split()\n",
    "\n",
    "#L,R,U,D에 따른 이동 방향\n",
    "dx = [0,0,-1,1]\n",
    "dy = [-1,1,0,0]\n",
    "move_types = ['L', 'R', 'U', 'D']\n",
    "\n",
    "#이동계획 하나씩 확인\n",
    "for plan in plans:\n",
    "    for i in range(len(move_types)):\n",
    "        if plan == move_types[i]:\n",
    "            nx = x + dx[i]\n",
    "            ny = y + dy[i]\n",
    "        #공간을 벗어나는 경우는 무시\n",
    "    if nx<1 or ny<1 or nx>n or ny>n:\n",
    "        continue\n",
    "    x,y = nx,ny\n",
    "\n",
    "print(x, y)\n"
   ],
   "metadata": {
    "collapsed": false
   }
  },
  {
   "cell_type": "code",
   "execution_count": 26,
   "outputs": [
    {
     "name": "stdout",
     "output_type": "stream",
     "text": [
      "11475\n"
     ]
    }
   ],
   "source": [
    "#시각\n",
    "\n",
    "n = int(input())\n",
    "\n",
    "cnt = 0\n",
    "for k in range(n+1):\n",
    "    if k==3:\n",
    "        cnt+=60*60\n",
    "        continue\n",
    "    for i in range(60):\n",
    "        if 0<=i-30<10: #30대면 모두 포함\n",
    "            cnt += 60\n",
    "            continue\n",
    "        else:\n",
    "            if (i-3)%10 == 0:\n",
    "                cnt += 60\n",
    "                continue\n",
    "        for j in range(60):\n",
    "            if 0<=j-30<10: #30대면 모두 포함\n",
    "                cnt += 1\n",
    "            else:\n",
    "                if (j-3)%10 == 0:\n",
    "                    cnt += 1\n",
    "\n",
    "print(cnt)\n"
   ],
   "metadata": {
    "collapsed": false
   }
  },
  {
   "cell_type": "code",
   "execution_count": 26,
   "outputs": [],
   "source": [],
   "metadata": {
    "collapsed": false
   }
  },
  {
   "cell_type": "code",
   "execution_count": null,
   "outputs": [],
   "source": [],
   "metadata": {
    "collapsed": false
   }
  }
 ],
 "metadata": {
  "kernelspec": {
   "display_name": "Python 3",
   "language": "python",
   "name": "python3"
  },
  "language_info": {
   "codemirror_mode": {
    "name": "ipython",
    "version": 2
   },
   "file_extension": ".py",
   "mimetype": "text/x-python",
   "name": "python",
   "nbconvert_exporter": "python",
   "pygments_lexer": "ipython2",
   "version": "2.7.6"
  }
 },
 "nbformat": 4,
 "nbformat_minor": 0
}
