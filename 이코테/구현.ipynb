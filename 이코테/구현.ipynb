{
 "cells": [
  {
   "cell_type": "code",
   "execution_count": null,
   "outputs": [],
   "source": [
    "#상하좌우\n",
    "\n",
    "n = int(input())\n",
    "\n",
    "go = list(map(str,input().split()))\n",
    "x=1\n",
    "y=1\n",
    "\n",
    "for goes in go:\n",
    "    if goes=='D':\n",
    "        if x+1 > n:\n",
    "            continue\n",
    "        else :\n",
    "            x = x+1\n",
    "    elif goes=='U':\n",
    "        if x-1 <= 0:\n",
    "            continue\n",
    "        else :\n",
    "            x = x-1\n",
    "    elif goes=='R':\n",
    "        if y+1 > n:\n",
    "            continue\n",
    "        else :\n",
    "            y = y+1\n",
    "    elif goes=='L':\n",
    "        if y-1 <= 0:\n",
    "            continue\n",
    "        else :\n",
    "            y = y-1\n",
    "\n",
    "print(f\"{x} {y}\")\n",
    "\n"
   ],
   "metadata": {
    "collapsed": false
   }
  },
  {
   "cell_type": "code",
   "execution_count": null,
   "outputs": [],
   "source": [
    "#상하좌우 다른 답\n",
    "\n",
    "n = int(input())\n",
    "x,y=1,1\n",
    "plans = input().split()\n",
    "\n",
    "#L,R,U,D에 따른 이동 방향\n",
    "dx = [0,0,-1,1]\n",
    "dy = [-1,1,0,0]\n",
    "move_types = ['L', 'R', 'U', 'D']\n",
    "\n",
    "#이동계획 하나씩 확인\n",
    "for plan in plans:\n",
    "    for i in range(len(move_types)):\n",
    "        if plan == move_types[i]:\n",
    "            nx = x + dx[i]\n",
    "            ny = y + dy[i]\n",
    "        #공간을 벗어나는 경우는 무시\n",
    "    if nx<1 or ny<1 or nx>n or ny>n:\n",
    "        continue\n",
    "    x,y = nx,ny\n",
    "\n",
    "print(x, y)\n"
   ],
   "metadata": {
    "collapsed": false
   }
  },
  {
   "cell_type": "code",
   "execution_count": null,
   "outputs": [],
   "source": [
    "#시각\n",
    "\n",
    "n = int(input())\n",
    "\n",
    "cnt = 0\n",
    "for k in range(n+1):\n",
    "    if k==3:\n",
    "        cnt+=60*60\n",
    "        continue\n",
    "    for i in range(60):\n",
    "        if 0<=i-30<10: #30대면 모두 포함\n",
    "            cnt += 60\n",
    "            continue\n",
    "        else:\n",
    "            if (i-3)%10 == 0:\n",
    "                cnt += 60\n",
    "                continue\n",
    "        for j in range(60):\n",
    "            if 0<=j-30<10: #30대면 모두 포함\n",
    "                cnt += 1\n",
    "            else:\n",
    "                if (j-3)%10 == 0:\n",
    "                    cnt += 1\n",
    "\n",
    "print(cnt)"
   ],
   "metadata": {
    "collapsed": false
   }
  },
  {
   "cell_type": "code",
   "execution_count": null,
   "outputs": [],
   "source": [
    "#시각 다른 풀이(문자열 풀이)\n",
    "h = int(input())\n",
    "\n",
    "count = 0\n",
    "\n",
    "for i in range(h+1):\n",
    "    for j in range(60):\n",
    "        for k in range(60):\n",
    "            #매 시각 안에 '3'이 포함되어 있다면 카운트 증가\n",
    "            if '3' in str(i) + str(j) + str(k):\n",
    "                count +=1\n",
    "\n",
    "print(count)\n"
   ],
   "metadata": {
    "collapsed": false
   }
  },
  {
   "cell_type": "code",
   "execution_count": 5,
   "outputs": [
    {
     "name": "stdout",
     "output_type": "stream",
     "text": [
      "8\n"
     ]
    }
   ],
   "source": [
    "#왕실의 나이트(ㄹㅇ 수준떨어지는 문제풀이)\n",
    "w = input()\n",
    "\n",
    "col = w[0]\n",
    "row = w[1]\n",
    "\n",
    "if w[0] == 'a' or w[0] == 'h':\n",
    "    if w[1]=='1' or w[1]=='8':\n",
    "        cnt=2\n",
    "    elif w[1]=='2' or w[1] =='7':\n",
    "        cnt=3\n",
    "    else:\n",
    "        cnt=4\n",
    "elif w[0] == 'b'  or w[0] == 'g':\n",
    "    if w[1]=='1' or w[1]=='8':\n",
    "        cnt=3\n",
    "    elif w[1]=='2' or w[1] =='7':\n",
    "        cnt=4\n",
    "    else:\n",
    "        cnt=6\n",
    "else:\n",
    "    if w[1]=='1' or w[1]=='8':\n",
    "        cnt=4\n",
    "    elif w[1]=='2' or w[1] =='7':\n",
    "        cnt=6\n",
    "    else:\n",
    "        cnt=8\n",
    "\n",
    "print(cnt)\n"
   ],
   "metadata": {
    "collapsed": false
   }
  },
  {
   "cell_type": "code",
   "execution_count": 21,
   "outputs": [
    {
     "name": "stdout",
     "output_type": "stream",
     "text": [
      "4\n"
     ]
    }
   ],
   "source": [
    "# 왕실의 나이트(이론 설명 좀 듣고 다시 풀어봄)\n",
    "\n",
    "w = input()\n",
    "\n",
    "col = w[0]\n",
    "row = w[1]\n",
    "#int(ord(w[1])-int(ord('a')) + 1 로 미리 표현해줄 수도 있음\n",
    "\n",
    "# 나이트가 갈 수 있는 전체 경우의 수\n",
    "steps = [(1, 2), (-1, 2), (1, -2), (-1, -2), (2, 1), (-2, 1), (2, -1), (-2, -1)]\n",
    "\n",
    "# 8가지 방향에 대하여 각 위치로 이동이 가능한지 확인\n",
    "cnt = 0\n",
    "for step in steps:\n",
    "    nr = int(row) + step[0]\n",
    "    nc = ord(col)-96 + step[1]\n",
    "\n",
    "    if 0 < nr < 9 and 0 < nc < 9:\n",
    "        cnt += 1\n",
    "\n",
    "print(cnt)"
   ],
   "metadata": {
    "collapsed": false
   }
  },
  {
   "cell_type": "code",
   "execution_count": null,
   "outputs": [],
   "source": [
    "#게임 개발\n",
    "n,m = map(int,input().split()) #맵 크기\n",
    "a,b,c = map(int, input().split()) #현재 캐릭터의 위치(a,b)와 바라보고 있는 방향(c)\n",
    "\n",
    "l=[]\n",
    "cmp=[]\n",
    "\n",
    "for i in range(n): #배열에 저장 성공\n",
    "    l[i] = list(map(int, input().split())) #0이 육지, 1이 바다\n",
    "\n",
    "for i in range(n):\n",
    "    for j in range(m):\n",
    "        cmp[n][m]=1 #1로 초기화\n",
    "\n",
    "\n",
    "def game(row, col, c, result):\n",
    "    if c==0: #북\n",
    "        dx = [-1,0,1,0]\n",
    "        dy = [0,1,0,-1]\n",
    "        dc = [3,2,1,0]\n",
    "    elif c==1: #동\n",
    "        dx = [0,-1,0,1]\n",
    "        dy = [-1,0,1,0]\n",
    "        dc = [0,3,2,1]\n",
    "    elif c==2: #남\n",
    "        dx = [1,0,-1,0]\n",
    "        dy = [0,-1,0,1]\n",
    "        dc = [1,0,3,2]\n",
    "    elif c==3: #서\n",
    "        dx = [0,1,0,-1]\n",
    "        dy = [1,0,-1,0]\n",
    "        dc = [2,1,0,3]\n",
    "\n",
    "    cnt=0 #4면 모두 못갈때\n",
    "    for i in range(4):\n",
    "        ny = row + dy[i]\n",
    "        nx = col + dx[i]\n",
    "        nc = dc[i]\n",
    "\n",
    "        if l[ny][nx]==0 and cmp[ny][nx]==1: #해당하는 곳이 육지이고 한번도 지나간적이 없다면\n",
    "            cmp[ny][nx] = 0 #지나갔다는 표시\n",
    "            result +=1\n",
    "            game(ny, nx, nc, result)\n",
    "        elif l[ny][nx]==1 or cmp[ny][nx]==0:\n",
    "            cnt +=1\n",
    "            game(row, col, nc,result)\n",
    "\n",
    "    if cnt ==4:\n",
    "        for i in range(4):\n",
    "            if dc[i]== nc:\n",
    "                last = i\n",
    "                break\n",
    "        if dy[last]!=0:\n",
    "            ny = row-dy[i] #뒤로가기\n",
    "            nx = col\n",
    "            if l[ny][nx]==1:\n",
    "                return result\n",
    "            game(ny, nx, nc, result)\n",
    "        elif dx[last]!=0:\n",
    "            ny = row\n",
    "            nx = col-dx[i] #뒤로가기\n",
    "\n",
    "            if l[ny][nx]==1:\n",
    "                return result\n",
    "            game(ny, nx, nc, result)\n",
    "\n",
    "\n",
    "game(a,b,c,0)\n",
    "\n",
    "\n"
   ],
   "metadata": {
    "collapsed": false
   }
  }
 ],
 "metadata": {
  "kernelspec": {
   "display_name": "Python 3",
   "language": "python",
   "name": "python3"
  },
  "language_info": {
   "codemirror_mode": {
    "name": "ipython",
    "version": 2
   },
   "file_extension": ".py",
   "mimetype": "text/x-python",
   "name": "python",
   "nbconvert_exporter": "python",
   "pygments_lexer": "ipython2",
   "version": "2.7.6"
  }
 },
 "nbformat": 4,
 "nbformat_minor": 0
}
