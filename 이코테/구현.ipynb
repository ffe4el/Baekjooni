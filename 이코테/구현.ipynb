{
 "cells": [
  {
   "cell_type": "code",
   "execution_count": null,
   "outputs": [],
   "source": [
    "#상하좌우\n",
    "\n",
    "n = int(input())\n",
    "\n",
    "go = list(map(str,input().split()))\n",
    "x=1\n",
    "y=1\n",
    "\n",
    "for goes in go:\n",
    "    if goes=='D':\n",
    "        if x+1 > n:\n",
    "            continue\n",
    "        else :\n",
    "            x = x+1\n",
    "    elif goes=='U':\n",
    "        if x-1 <= 0:\n",
    "            continue\n",
    "        else :\n",
    "            x = x-1\n",
    "    elif goes=='R':\n",
    "        if y+1 > n:\n",
    "            continue\n",
    "        else :\n",
    "            y = y+1\n",
    "    elif goes=='L':\n",
    "        if y-1 <= 0:\n",
    "            continue\n",
    "        else :\n",
    "            y = y-1\n",
    "\n",
    "print(f\"{x} {y}\")\n",
    "\n"
   ],
   "metadata": {
    "collapsed": false
   }
  },
  {
   "cell_type": "code",
   "execution_count": null,
   "outputs": [],
   "source": [
    "#상하좌우 다른 답\n",
    "\n",
    "n = int(input())\n",
    "x,y=1,1\n",
    "plans = input().split()\n",
    "\n",
    "#L,R,U,D에 따른 이동 방향\n",
    "dx = [0,0,-1,1]\n",
    "dy = [-1,1,0,0]\n",
    "move_types = ['L', 'R', 'U', 'D']\n",
    "\n",
    "#이동계획 하나씩 확인\n",
    "for plan in plans:\n",
    "    for i in range(len(move_types)):\n",
    "        if plan == move_types[i]:\n",
    "            nx = x + dx[i]\n",
    "            ny = y + dy[i]\n",
    "        #공간을 벗어나는 경우는 무시\n",
    "    if nx<1 or ny<1 or nx>n or ny>n:\n",
    "        continue\n",
    "    x,y = nx,ny\n",
    "\n",
    "print(x, y)\n"
   ],
   "metadata": {
    "collapsed": false
   }
  },
  {
   "cell_type": "code",
   "execution_count": null,
   "outputs": [],
   "source": [
    "#시각\n",
    "\n",
    "n = int(input())\n",
    "\n",
    "cnt = 0\n",
    "for k in range(n+1):\n",
    "    if k==3:\n",
    "        cnt+=60*60\n",
    "        continue\n",
    "    for i in range(60):\n",
    "        if 0<=i-30<10: #30대면 모두 포함\n",
    "            cnt += 60\n",
    "            continue\n",
    "        else:\n",
    "            if (i-3)%10 == 0:\n",
    "                cnt += 60\n",
    "                continue\n",
    "        for j in range(60):\n",
    "            if 0<=j-30<10: #30대면 모두 포함\n",
    "                cnt += 1\n",
    "            else:\n",
    "                if (j-3)%10 == 0:\n",
    "                    cnt += 1\n",
    "\n",
    "print(cnt)"
   ],
   "metadata": {
    "collapsed": false
   }
  },
  {
   "cell_type": "code",
   "execution_count": null,
   "outputs": [],
   "source": [
    "#시각 다른 풀이(문자열 풀이)\n",
    "h = int(input())\n",
    "\n",
    "count = 0\n",
    "\n",
    "for i in range(h+1):\n",
    "    for j in range(60):\n",
    "        for k in range(60):\n",
    "            #매 시각 안에 '3'이 포함되어 있다면 카운트 증가\n",
    "            if '3' in str(i) + str(j) + str(k):\n",
    "                count +=1\n",
    "\n",
    "print(count)\n"
   ],
   "metadata": {
    "collapsed": false
   }
  },
  {
   "cell_type": "code",
   "execution_count": 5,
   "outputs": [
    {
     "name": "stdout",
     "output_type": "stream",
     "text": [
      "8\n"
     ]
    }
   ],
   "source": [
    "#왕실의 나이트(ㄹㅇ 수준떨어지는 문제풀이)\n",
    "w = input()\n",
    "\n",
    "col = w[0]\n",
    "row = w[1]\n",
    "\n",
    "if w[0] == 'a' or w[0] == 'h':\n",
    "    if w[1]=='1' or w[1]=='8':\n",
    "        cnt=2\n",
    "    elif w[1]=='2' or w[1] =='7':\n",
    "        cnt=3\n",
    "    else:\n",
    "        cnt=4\n",
    "elif w[0] == 'b'  or w[0] == 'g':\n",
    "    if w[1]=='1' or w[1]=='8':\n",
    "        cnt=3\n",
    "    elif w[1]=='2' or w[1] =='7':\n",
    "        cnt=4\n",
    "    else:\n",
    "        cnt=6\n",
    "else:\n",
    "    if w[1]=='1' or w[1]=='8':\n",
    "        cnt=4\n",
    "    elif w[1]=='2' or w[1] =='7':\n",
    "        cnt=6\n",
    "    else:\n",
    "        cnt=8\n",
    "\n",
    "print(cnt)\n"
   ],
   "metadata": {
    "collapsed": false
   }
  },
  {
   "cell_type": "code",
   "execution_count": 21,
   "outputs": [
    {
     "name": "stdout",
     "output_type": "stream",
     "text": [
      "4\n"
     ]
    }
   ],
   "source": [
    "# 왕실의 나이트(이론 설명 좀 듣고 다시 풀어봄)\n",
    "\n",
    "w = input()\n",
    "\n",
    "col = w[0]\n",
    "row = w[1]\n",
    "\n",
    "cnt = 0\n",
    "\n",
    "# 나이트가 갈 수 있는 전체 경우의 수\n",
    "steps = [(1, 2), (-1, 2), (1, -2), (-1, -2), (2, 1), (-2, 1), (2, -1), (-2, -1)]\n",
    "\n",
    "for step in steps:\n",
    "    nr = int(row) + step[0]\n",
    "    nc = ord(col)-96 + step[1]\n",
    "\n",
    "    if 0 < nr < 9 and 0 < nc < 9:\n",
    "        cnt += 1\n",
    "\n",
    "print(cnt)"
   ],
   "metadata": {
    "collapsed": false
   }
  }
 ],
 "metadata": {
  "kernelspec": {
   "display_name": "Python 3",
   "language": "python",
   "name": "python3"
  },
  "language_info": {
   "codemirror_mode": {
    "name": "ipython",
    "version": 2
   },
   "file_extension": ".py",
   "mimetype": "text/x-python",
   "name": "python",
   "nbconvert_exporter": "python",
   "pygments_lexer": "ipython2",
   "version": "2.7.6"
  }
 },
 "nbformat": 4,
 "nbformat_minor": 0
}
