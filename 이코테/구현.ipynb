{
 "cells": [
  {
   "cell_type": "code",
   "execution_count": 4,
   "metadata": {
    "collapsed": true
   },
   "outputs": [
    {
     "name": "stdout",
     "output_type": "stream",
     "text": [
      "3 4\n"
     ]
    }
   ],
   "source": [
    "#상하좌우\n",
    "\n",
    "n = int(input())\n",
    "\n",
    "go = list(map(str,input().split()))\n",
    "x=1\n",
    "y=1\n",
    "\n",
    "for goes in go:\n",
    "    if goes=='D':\n",
    "        if x+1 > n:\n",
    "            continue\n",
    "        else :\n",
    "            x = x+1\n",
    "    elif goes=='U':\n",
    "        if x-1 <= 0:\n",
    "            continue\n",
    "        else :\n",
    "            x = x-1\n",
    "    elif goes=='R':\n",
    "        if y+1 > n:\n",
    "            continue\n",
    "        else :\n",
    "            y = y+1\n",
    "    elif goes=='L':\n",
    "        if y-1 <= 0:\n",
    "            continue\n",
    "        else :\n",
    "            y = y-1\n",
    "\n",
    "print(f\"{x} {y}\")\n",
    "\n"
   ]
  },
  {
   "cell_type": "code",
   "execution_count": null,
   "outputs": [],
   "source": [],
   "metadata": {
    "collapsed": false
   }
  }
 ],
 "metadata": {
  "kernelspec": {
   "display_name": "Python 3",
   "language": "python",
   "name": "python3"
  },
  "language_info": {
   "codemirror_mode": {
    "name": "ipython",
    "version": 2
   },
   "file_extension": ".py",
   "mimetype": "text/x-python",
   "name": "python",
   "nbconvert_exporter": "python",
   "pygments_lexer": "ipython2",
   "version": "2.7.6"
  }
 },
 "nbformat": 4,
 "nbformat_minor": 0
}
