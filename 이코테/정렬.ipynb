{
 "cells": [
  {
   "cell_type": "code",
   "execution_count": 2,
   "metadata": {
    "collapsed": true
   },
   "outputs": [
    {
     "name": "stdout",
     "output_type": "stream",
     "text": [
      "[0, 1, 2, 3, 4, 5, 6, 7, 8, 9]\n"
     ]
    }
   ],
   "source": [
    "#선택정렬 (가장 작은 수를 선택해서 정렬한다)\n",
    "array = [7,5,9,0,3,1,6,2,4,8]\n",
    "\n",
    "for i in range(len(array)):\n",
    "    min_index = i #가장 작은 원소의 인덱스\n",
    "    for j in range(i+1, len(array)):\n",
    "        if array[min_index] > array[j]:\n",
    "            min_index = j\n",
    "    array[i], array[min_index] = array[min_index], array[i]\n",
    "\n",
    "print(array)"
   ]
  },
  {
   "cell_type": "code",
   "execution_count": null,
   "outputs": [],
   "source": [
    "#삽입정렬\n",
    "array = [7,5,9,0,3,1,6,2,4,8]\n",
    "\n",
    "for i in range(1, len(array)):\n",
    "    for j in range(i, 0, -1): #인덱스 i부터 1까지 감소하며 반복하는 문법\n",
    "        if array[j] < array[j-1]: #한 칸씩 왼쪽으로 이동\n",
    "            array[j], array[j-1] = array[j-1], array[j],\n",
    "        else:\n",
    "            break\n",
    "print(array)\n"
   ],
   "metadata": {
    "collapsed": false
   }
  },
  {
   "cell_type": "code",
   "execution_count": 6,
   "outputs": [
    {
     "name": "stdout",
     "output_type": "stream",
     "text": [
      "[0, 1, 2, 3, 4, 5, 6, 7, 8, 9]\n"
     ]
    }
   ],
   "source": [
    "#퀵정렬\n",
    "array = [5,7,9,0,3,1,6,2,4,8]\n",
    "\n",
    "def quick_sort(array, start, end):\n",
    "    if start >= end: #원소가 1개인 경우 종료\n",
    "        return\n",
    "    pivot = start #피벗은 첫번째 원소\n",
    "    left = start +1\n",
    "    right = end\n",
    "    while left <= right:\n",
    "        #피벗보다 큰 데이터를 찾을 때까지 반복\n",
    "        while left <= end and array[left] <= array[pivot]:\n",
    "            left +=1\n",
    "        #피벗보다 작은 데이터를 찾을 때까지 반복\n",
    "        while right > start and array[right] >= array[pivot]:\n",
    "            right -=1\n",
    "        if left > right: #엇갈렸다면 작은 데이터와 피벗을 교체\n",
    "            array[right], array[pivot] = array[pivot], array[right]\n",
    "        else : #엇갈리지 않았다면 작은 데이터와 큰 데이터를 교체\n",
    "            array[right], array[left] = array[left], array[right]\n",
    "    #분할 이후 왼쪽 부분과 오른쪽 부분에서 각각 정렬 수행\n",
    "    quick_sort(array, start, right-1)\n",
    "    quick_sort(array, right+1, end)\n",
    "\n",
    "quick_sort(array,0,len(array)-1)\n",
    "\n",
    "print(array)"
   ],
   "metadata": {
    "collapsed": false
   }
  },
  {
   "cell_type": "code",
   "execution_count": 11,
   "outputs": [
    {
     "name": "stdout",
     "output_type": "stream",
     "text": [
      "left_side: [0, 3, 1, 2, 4]\n",
      "right_side: [7, 9, 6, 8]\n",
      "left_side: []\n",
      "right_side: [3, 1, 2, 4]\n",
      "left_side: [1, 2]\n",
      "right_side: [4]\n",
      "left_side: []\n",
      "right_side: [2]\n",
      "left_side: [6]\n",
      "right_side: [9, 8]\n",
      "left_side: [8]\n",
      "right_side: []\n",
      "[0, 1, 2, 3, 4, 5, 6, 7, 8, 9]\n"
     ]
    }
   ],
   "source": [
    "#파이썬의 장점을 살린 퀵 정렬 소스코드\n",
    "\n",
    "array = [5,7,9,0,3,1,6,2,4,8]\n",
    "\n",
    "def quick_sort(array):\n",
    "    #리스트가 하나 이하의 원소만을 담고 있다면 종료\n",
    "    if len(array) <=1:\n",
    "        return array\n",
    "\n",
    "    pivot = array[0] #피벗은 첫번째 원소\n",
    "    tail = array[1:] #피벗을 제외한 리스트\n",
    "\n",
    "    left_side = [x for x in tail if x<= pivot] #분할된 왼쪽 부분\n",
    "    # print(f\"left_side: {left_side}\")\n",
    "    right_side = [x for x in tail if x>pivot] #분할된 오른쪽 부분\n",
    "    # print(f\"right_side: {right_side}\")\n",
    "\n",
    "\n",
    "    #분할 이후 왼쪽부분과 오른쪽부분에서 각각 정렬을 수행하고, 전체 리스트를 반환\n",
    "    return quick_sort(left_side) + [pivot] + quick_sort(right_side)\n",
    "\n",
    "print(quick_sort(array))"
   ],
   "metadata": {
    "collapsed": false
   }
  },
  {
   "cell_type": "code",
   "execution_count": 12,
   "outputs": [
    {
     "name": "stdout",
     "output_type": "stream",
     "text": [
      "0 0 1 1 2 2 3 4 5 5 6 7 8 9 9 "
     ]
    }
   ],
   "source": [
    "#계수 정렬\n",
    "\n",
    "#모든 원소의 값이 0보다 크거나 같다고 가정\n",
    "array = [7,5,9,0,3,1,6,2,9,1,4,8,0,5,2]\n",
    "#모든 범위를 포함하는 리스트 선언(모든 값은 0으로 초기화)\n",
    "count=[0]*(max(array)+1)\n",
    "\n",
    "for i in range(len(array)):\n",
    "    count[array[i]] += 1 #각 데이터에 해당하는 인덱스의 값 증가\n",
    "\n",
    "for i in range(len(count)): #리스트에 기록된 정렬 정보 확인\n",
    "    for j in range(count[i]):\n",
    "        print(i, end=' ') #띄어쓰기를 구분으로 등장한 횟수만큼 인덱스 출력"
   ],
   "metadata": {
    "collapsed": false
   }
  },
  {
   "cell_type": "code",
   "execution_count": null,
   "outputs": [],
   "source": [],
   "metadata": {
    "collapsed": false
   }
  }
 ],
 "metadata": {
  "kernelspec": {
   "display_name": "Python 3",
   "language": "python",
   "name": "python3"
  },
  "language_info": {
   "codemirror_mode": {
    "name": "ipython",
    "version": 2
   },
   "file_extension": ".py",
   "mimetype": "text/x-python",
   "name": "python",
   "nbconvert_exporter": "python",
   "pygments_lexer": "ipython2",
   "version": "2.7.6"
  }
 },
 "nbformat": 4,
 "nbformat_minor": 0
}
