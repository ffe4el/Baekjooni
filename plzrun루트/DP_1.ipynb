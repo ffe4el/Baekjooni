{
 "cells": [
  {
   "cell_type": "code",
   "execution_count": 13,
   "metadata": {
    "collapsed": true
   },
   "outputs": [
    {
     "name": "stdout",
     "output_type": "stream",
     "text": [
      "b\n",
      "c\n",
      "b\n",
      "b\n",
      "4\n"
     ]
    }
   ],
   "source": [
    "n = int(input())\n",
    "k = n\n",
    "cache = []\n",
    "cnt=0\n",
    "while n>1:\n",
    "    if n%3==0:\n",
    "        n //= 3\n",
    "        cnt +=1\n",
    "        print(\"a\")\n",
    "    elif n%2==0:\n",
    "        n //= 2\n",
    "        cnt +=1\n",
    "        print(\"b\")\n",
    "    else :\n",
    "        n -=1\n",
    "        cnt  = cnt + 1\n",
    "        print(\"c\")\n",
    "cache.append(cnt)\n",
    "\n",
    "ans = []\n",
    "while k>1:\n",
    "    if k-1%3==0:\n",
    "        k = (k-1)//3\n",
    "        ans+=2\n",
    "    if k%3 == 0 :\n",
    "        k //=3\n",
    "    elif k%2==0:\n",
    "        k //= 2\n",
    "        ans +=1\n",
    "\n",
    "\n",
    "\n"
   ]
  },
  {
   "cell_type": "code",
   "execution_count": null,
   "outputs": [],
   "source": [],
   "metadata": {
    "collapsed": false
   }
  }
 ],
 "metadata": {
  "kernelspec": {
   "display_name": "Python 3",
   "language": "python",
   "name": "python3"
  },
  "language_info": {
   "codemirror_mode": {
    "name": "ipython",
    "version": 2
   },
   "file_extension": ".py",
   "mimetype": "text/x-python",
   "name": "python",
   "nbconvert_exporter": "python",
   "pygments_lexer": "ipython2",
   "version": "2.7.6"
  }
 },
 "nbformat": 4,
 "nbformat_minor": 0
}
