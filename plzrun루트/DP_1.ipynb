{
 "cells": [
  {
   "cell_type": "code",
   "execution_count": 13,
   "metadata": {
    "collapsed": true
   },
   "outputs": [
    {
     "name": "stdout",
     "output_type": "stream",
     "text": [
      "b\n",
      "c\n",
      "b\n",
      "b\n",
      "4\n"
     ]
    }
   ],
   "source": [
    "#1463 1로만들기\n",
    "# 이렇게 하면 cnt의 최솟값을 찾을 수가 없다..\n",
    "n = int(input())\n",
    "k = n\n",
    "cnt=0\n",
    "while n>1:\n",
    "    if n%3==0:\n",
    "        n //= 3\n",
    "        cnt +=1\n",
    "    elif n%2==0:\n",
    "        n //= 2\n",
    "        cnt +=1\n",
    "    else :\n",
    "        n -=1\n",
    "        cnt  = cnt + 1\n",
    "\n",
    "print(cnt)\n",
    "\n",
    "\n",
    "\n"
   ]
  },
  {
   "cell_type": "code",
   "execution_count": 15,
   "outputs": [
    {
     "name": "stdout",
     "output_type": "stream",
     "text": [
      "3\n"
     ]
    }
   ],
   "source": [
    "#1463 1로만들기\n",
    "# 못풀겠어서, 블로그 참고해서 짠 코드이다..\n",
    "# DP, 즉 메모이제이션을 사용하는 이유는 했던 계산을 다시 하는 낭비(?)를 막기위해서 이다. (이걸 기억하고 풀면 어느정도 가닥이 잡힐수도...)\n",
    "\n",
    "n= int(input())\n",
    "## d에 계산된 값을 저장해둔다. n + 1이라고 한 이유는, 1번째 수는 사실 d[1]이 아니고 d[2]이기 때문에, 계산하기 편하게 d[1]을 1번째 인 것 처럼 만들어준다.\n",
    "\n",
    "cache = [0]*(n+1) # 계산하는 갯수가 들어간 cache이다...??\n",
    "# print(cache)\n",
    "\n",
    "for i in range(2, n+1):\n",
    "    '''여기서 왜 if 1빼는 방법, 2 나누기, 3 나누기 동등하게 하지 않고 처음에 1을 빼고 시작하는지 의아해 할 수 있다.\n",
    "    1을 빼고 시작하는 이유는 다음에 계산할 나누기가 1을 뺀 값보다 작거나 큼에 따라 어차피 교체되기 때문이다.\n",
    "    즉 셋 다 시도하는 방법이 맞다. '''\n",
    "    cache[i]=cache[i-1]+1 # 일단 1을 빼준다.\n",
    "\n",
    "    ## 여기서 if elif else를 사용하면 안된다. if만 이용해야 세 연산을 다 거칠 수 있다, 가끔 if continue, else continue를 쓰는 분도 계신데, 난 이게 편한듯.\n",
    "    if i % 3 ==0:\n",
    "        cache[i] = min(cache[i], cache[i//3]+1) ## 1을 더하는 것은 d는 결과가 아닌 계산한 횟수를 저장하는 것 이기 때문이다. d[i]에는 더하지 않는 이유는 이미 1을 뺄 때 1을 더해준 이력이 있기 때문이다.\n",
    "\n",
    "    if i % 2 ==0:\n",
    "        cache[i] = min(cache[i], cache[i//2]+1)\n",
    "\n",
    "print(cache[n])"
   ],
   "metadata": {
    "collapsed": false
   }
  }
 ],
 "metadata": {
  "kernelspec": {
   "display_name": "Python 3",
   "language": "python",
   "name": "python3"
  },
  "language_info": {
   "codemirror_mode": {
    "name": "ipython",
    "version": 2
   },
   "file_extension": ".py",
   "mimetype": "text/x-python",
   "name": "python",
   "nbconvert_exporter": "python",
   "pygments_lexer": "ipython2",
   "version": "2.7.6"
  }
 },
 "nbformat": 4,
 "nbformat_minor": 0
}
