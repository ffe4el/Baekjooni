{
 "cells": [
  {
   "cell_type": "code",
   "execution_count": 13,
   "metadata": {
    "collapsed": true
   },
   "outputs": [
    {
     "name": "stdout",
     "output_type": "stream",
     "text": [
      "b\n",
      "c\n",
      "b\n",
      "b\n",
      "4\n"
     ]
    }
   ],
   "source": [
    "#1463 1로만들기\n",
    "# 이렇게 하면 cnt의 최솟값을 찾을 수가 없다..\n",
    "n = int(input())\n",
    "k = n\n",
    "cnt=0\n",
    "while n>1:\n",
    "    if n%3==0:\n",
    "        n //= 3\n",
    "        cnt +=1\n",
    "    elif n%2==0:\n",
    "        n //= 2\n",
    "        cnt +=1\n",
    "    else :\n",
    "        n -=1\n",
    "        cnt  = cnt + 1\n",
    "\n",
    "print(cnt)\n",
    "\n",
    "\n",
    "\n"
   ]
  },
  {
   "cell_type": "code",
   "execution_count": 15,
   "outputs": [
    {
     "name": "stdout",
     "output_type": "stream",
     "text": [
      "3\n"
     ]
    }
   ],
   "source": [
    "#1463 1로만들기\n",
    "# buttomup - for문\n",
    "# 못풀겠어서, 블로그 참고해서 짠 코드이다.. 근데 완벽히 이해X\n",
    "# DP, 즉 메모이제이션을 사용하는 이유는 했던 계산을 다시 하는 낭비(?)를 막기위해서 이다. (이걸 기억하고 풀면 어느정도 가닥이 잡힐수도...)\n",
    "\n",
    "n= int(input())\n",
    "## d에 계산된 값을 저장해둔다. n + 1이라고 한 이유는, 1번째 수는 사실 d[1]이 아니고 d[2]이기 때문에, 계산하기 편하게 d[1]을 1번째 인 것 처럼 만들어준다.\n",
    "\n",
    "cache = [0]*(n+1) # d는 인덱스의 숫자가 1이 되는데 필요한 연산의 최솟값을 갖는다!\n",
    "# d[1]은 0으로, 1이 1로 되는데 필요한 연산은 0회이다.\n",
    "# print(cache)\n",
    "\n",
    "for i in range(2, n+1):\n",
    "    '''여기서 왜 if 1빼는 방법, 2 나누기, 3 나누기 동등하게 하지 않고 처음에 1을 빼고 시작하는지 의아해 할 수 있다.\n",
    "    1을 빼고 시작하는 이유는 다음에 계산할 나누기가 1을 뺀 값보다 작거나 큼에 따라 어차피 교체되기 때문이다.\n",
    "    즉 셋 다 시도하는 방법이 맞다. '''\n",
    "    cache[i]=cache[i-1]+1 # 일단 1을 빼준다.\n",
    "\n",
    "    ## 여기서 if elif else를 사용하면 안된다. if만 이용해야 세 연산을 다 거칠 수 있다, 가끔 if continue, else continue를 쓰는 분도 계신데, 난 이게 편한듯.\n",
    "    if i % 3 ==0:\n",
    "        cache[i] = min(cache[i], cache[i//3]+1) ## 1을 더하는 것은 d는 결과가 아닌 계산한 횟수를 저장하는 것 이기 때문이다. d[i]에는 더하지 않는 이유는 이미 1을 뺄 때 1을 더해준 이력이 있기 때문이다.\n",
    "\n",
    "    if i % 2 ==0:\n",
    "        cache[i] = min(cache[i], cache[i//2]+1)\n",
    "\n",
    "print(cache[n])"
   ],
   "metadata": {
    "collapsed": false
   }
  },
  {
   "cell_type": "code",
   "execution_count": 17,
   "outputs": [
    {
     "name": "stdout",
     "output_type": "stream",
     "text": [
      "3\n"
     ]
    }
   ],
   "source": [
    "#1463 1로만들기\n",
    "# DP - TopDown 풀이 (재귀 사용)\n",
    "# -> 설명 노션참고\n",
    "\n",
    "n = int(input())\n",
    "cache = {1:0} # 딕셔너리형태, 1일때는 연산개수가 0이라는뜻(초기 데이터만 넣어준 상태)\n",
    "\n",
    "def rec(x):\n",
    "    if x in cache.keys():\n",
    "        return cache[x]\n",
    "    if (x%3==0) and (x%2==0):\n",
    "        cache[x] = min(rec(x//3)+1, rec(x//2)+1)\n",
    "    elif x%3==0:\n",
    "        cache[x] = min(rec(x//3)+1, rec(x-1)+1)\n",
    "    elif x%2==0:\n",
    "        cache[x] = min(rec(x//2)+1, rec(x-1)+1)\n",
    "    else :\n",
    "        cache[x]= rec(x-1)+1\n",
    "    return cache[x]\n",
    "\n",
    "print(rec(n))\n"
   ],
   "metadata": {
    "collapsed": false
   }
  },
  {
   "cell_type": "code",
   "execution_count": 19,
   "outputs": [
    {
     "name": "stdout",
     "output_type": "stream",
     "text": [
      "3\n"
     ]
    }
   ],
   "source": [
    "#1463 1로만들기\n",
    "# BFS로 푸는방법도 있다. => bfs는 무조건 최단거리를 찾아주기 때문에 유용하다!\n",
    "# -> 설명 노션참고\n",
    "\n",
    "from _collections import deque\n",
    "\n",
    "n = int(input())\n",
    "q = deque([n])\n",
    "visited = [0]*(n+1)\n",
    "\n",
    "while q:\n",
    "    c = q.popleft()\n",
    "    if c == 1:\n",
    "        break\n",
    "    if c%3==0 and visited[c//3]==0:\n",
    "        q.append(c//3)\n",
    "        visited[c//3] = visited[c]+1\n",
    "    if c%2==0 and visited[c//2]==0:\n",
    "        q.append(c//2)\n",
    "        visited[c//2] = visited[c]+1\n",
    "    if visited[c-1]==0:\n",
    "        q.append(c-1)\n",
    "        visited[c-1] = visited[c]+1\n",
    "\n",
    "print(visited[1])"
   ],
   "metadata": {
    "collapsed": false
   }
  }
 ],
 "metadata": {
  "kernelspec": {
   "display_name": "Python 3",
   "language": "python",
   "name": "python3"
  },
  "language_info": {
   "codemirror_mode": {
    "name": "ipython",
    "version": 2
   },
   "file_extension": ".py",
   "mimetype": "text/x-python",
   "name": "python",
   "nbconvert_exporter": "python",
   "pygments_lexer": "ipython2",
   "version": "2.7.6"
  }
 },
 "nbformat": 4,
 "nbformat_minor": 0
}
