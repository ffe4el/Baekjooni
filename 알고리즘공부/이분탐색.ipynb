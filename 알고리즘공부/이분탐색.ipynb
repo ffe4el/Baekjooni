{
 "cells": [
  {
   "cell_type": "code",
   "execution_count": 9,
   "metadata": {
    "collapsed": true
   },
   "outputs": [
    {
     "name": "stdout",
     "output_type": "stream",
     "text": [
      "100\n"
     ]
    }
   ],
   "source": [
    "#2512 예산 ㅎㅎ 개같이 못풀었쥬ㅠㅠ\n",
    "from bisect import bisect_left, bisect_right\n",
    "n = int(input())\n",
    "x = list(map(int, input().split()))\n",
    "m = int(input())\n",
    "\n",
    "k = int(m / len(x))\n",
    "a=[]\n",
    "\n",
    "if sum(x)<=450:\n",
    "    print(max(x))\n",
    "else :\n",
    "    for i in range(len(x)):\n",
    "        if x[i] <= k:\n",
    "            a.append(i)\n",
    "\n",
    "    for i in a:\n",
    "        m = m - x[i]\n",
    "\n",
    "    h = m/(len(x)-len(a))\n",
    "    print(int(h))\n",
    "\n"
   ]
  },
  {
   "cell_type": "code",
   "execution_count": null,
   "outputs": [],
   "source": [
    "#2512 예산 다시 도전\n",
    "\n",
    "n = int(input())\n",
    "x = list(map(int, input().split()))\n",
    "m = int(input())\n",
    "\n",
    "x.sort() #일단 정렬\n",
    "\n",
    "xx = sum(x)\n",
    "ex = sum(x)/len(x) #평균\n",
    "if xx <= m :\n",
    "    print(max(x))\n",
    "else :\n",
    "    for k in x:\n",
    "\n",
    "\n"
   ],
   "metadata": {
    "collapsed": false
   }
  },
  {
   "cell_type": "code",
   "execution_count": 12,
   "outputs": [
    {
     "name": "stdout",
     "output_type": "stream",
     "text": [
      "400\n",
      "**\n",
      "401\n",
      "200\n",
      "299\n",
      "**\n",
      "300\n",
      "249\n",
      "**\n",
      "250\n",
      "224\n",
      "**\n",
      "225\n",
      "211\n",
      "**\n",
      "212\n",
      "205\n",
      "**\n",
      "206\n",
      "202\n",
      "**\n",
      "203\n",
      "200\n",
      "**\n",
      "201\n",
      "200\n"
     ]
    }
   ],
   "source": [
    "#1654 랜선 자르기 (*****)\n",
    "# 일단 먼저 풀기...\n",
    "\n",
    "# import sys\n",
    "# input = sys.stdin.readline\n",
    "\n",
    "k,n = map(int,input().split())\n",
    "data = [int(input()) for i in range(k)]\n",
    "\n",
    "left=1\n",
    "right=max(data)\n",
    "result = 0\n",
    "\n",
    "while left <= right:\n",
    "    mid = (left+right)//2\n",
    "    total = 0\n",
    "    for i in data:\n",
    "        total += i//mid\n",
    "\n",
    "    if total >= n :\n",
    "        left = mid + 1\n",
    "        result = mid\n",
    "        # print(result)\n",
    "    else :\n",
    "        right = mid -1\n",
    "        # print(right)\n",
    "        # print(\"**\")\n",
    "        # print(mid)\n",
    "\n",
    "print(result)\n"
   ],
   "metadata": {
    "collapsed": false
   }
  },
  {
   "cell_type": "code",
   "execution_count": null,
   "outputs": [],
   "source": [],
   "metadata": {
    "collapsed": false
   }
  }
 ],
 "metadata": {
  "kernelspec": {
   "display_name": "Python 3",
   "language": "python",
   "name": "python3"
  },
  "language_info": {
   "codemirror_mode": {
    "name": "ipython",
    "version": 2
   },
   "file_extension": ".py",
   "mimetype": "text/x-python",
   "name": "python",
   "nbconvert_exporter": "python",
   "pygments_lexer": "ipython2",
   "version": "2.7.6"
  }
 },
 "nbformat": 4,
 "nbformat_minor": 0
}
