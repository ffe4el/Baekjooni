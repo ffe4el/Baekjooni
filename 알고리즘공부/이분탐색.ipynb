{
 "cells": [
  {
   "cell_type": "code",
   "execution_count": 9,
   "metadata": {
    "collapsed": true
   },
   "outputs": [
    {
     "name": "stdout",
     "output_type": "stream",
     "text": [
      "100\n"
     ]
    }
   ],
   "source": [
    "#2512 예산 ㅎㅎ 개같이 못풀었쥬ㅠㅠ\n",
    "from bisect import bisect_left, bisect_right\n",
    "n = int(input())\n",
    "x = list(map(int, input().split()))\n",
    "m = int(input())\n",
    "\n",
    "k = int(m / len(x))\n",
    "a=[]\n",
    "\n",
    "if sum(x)<=450:\n",
    "    print(max(x))\n",
    "else :\n",
    "    for i in range(len(x)):\n",
    "        if x[i] <= k:\n",
    "            a.append(i)\n",
    "\n",
    "    for i in a:\n",
    "        m = m - x[i]\n",
    "\n",
    "    h = m/(len(x)-len(a))\n",
    "    print(int(h))\n",
    "\n"
   ]
  },
  {
   "cell_type": "code",
   "execution_count": null,
   "outputs": [],
   "source": [],
   "metadata": {
    "collapsed": false
   }
  }
 ],
 "metadata": {
  "kernelspec": {
   "display_name": "Python 3",
   "language": "python",
   "name": "python3"
  },
  "language_info": {
   "codemirror_mode": {
    "name": "ipython",
    "version": 2
   },
   "file_extension": ".py",
   "mimetype": "text/x-python",
   "name": "python",
   "nbconvert_exporter": "python",
   "pygments_lexer": "ipython2",
   "version": "2.7.6"
  }
 },
 "nbformat": 4,
 "nbformat_minor": 0
}
