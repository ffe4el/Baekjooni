{
 "cells": [
  {
   "cell_type": "code",
   "execution_count": 9,
   "metadata": {
    "collapsed": true
   },
   "outputs": [
    {
     "name": "stdout",
     "output_type": "stream",
     "text": [
      "100\n"
     ]
    }
   ],
   "source": [
    "#2512 예산 ㅎㅎ 개같이 못풀었쥬ㅠㅠ\n",
    "from bisect import bisect_left, bisect_right\n",
    "n = int(input())\n",
    "x = list(map(int, input().split()))\n",
    "m = int(input())\n",
    "\n",
    "k = int(m / len(x))\n",
    "a=[]\n",
    "\n",
    "if sum(x)<=450:\n",
    "    print(max(x))\n",
    "else :\n",
    "    for i in range(len(x)):\n",
    "        if x[i] <= k:\n",
    "            a.append(i)\n",
    "\n",
    "    for i in a:\n",
    "        m = m - x[i]\n",
    "\n",
    "    h = m/(len(x)-len(a))\n",
    "    print(int(h))\n",
    "\n"
   ]
  },
  {
   "cell_type": "code",
   "execution_count": 19,
   "outputs": [
    {
     "name": "stdout",
     "output_type": "stream",
     "text": [
      "100\n"
     ]
    }
   ],
   "source": [
    "#2512 예산 영상보고 풀어보기\n",
    "n = int(input())\n",
    "x = list(map(int, input().split()))\n",
    "m = int(input())\n",
    "\n",
    "lo = 0\n",
    "hi = max(x)\n",
    "mid = (lo+hi)//2\n",
    "\n",
    "def is_possi(mid):\n",
    "    return sum(min(r,mid) for r in x) <= m\n",
    "\n",
    "while lo <= hi:\n",
    "    if is_possi(mid):\n",
    "        lo = mid+1\n",
    "        result = mid\n",
    "    else:\n",
    "        hi = mid -1\n",
    "    mid = (lo+hi) //2\n",
    "\n",
    "print(result)\n",
    "\n",
    "\n",
    "\n"
   ],
   "metadata": {
    "collapsed": false
   }
  },
  {
   "cell_type": "code",
   "execution_count": 12,
   "outputs": [
    {
     "name": "stdout",
     "output_type": "stream",
     "text": [
      "400\n",
      "**\n",
      "401\n",
      "200\n",
      "299\n",
      "**\n",
      "300\n",
      "249\n",
      "**\n",
      "250\n",
      "224\n",
      "**\n",
      "225\n",
      "211\n",
      "**\n",
      "212\n",
      "205\n",
      "**\n",
      "206\n",
      "202\n",
      "**\n",
      "203\n",
      "200\n",
      "**\n",
      "201\n",
      "200\n"
     ]
    }
   ],
   "source": [
    "#1654 랜선 자르기 (*****)\n",
    "# 일단 먼저 풀기...\n",
    "\n",
    "# import sys\n",
    "# input = sys.stdin.readline\n",
    "\n",
    "k,n = map(int,input().split())\n",
    "data = [int(input()) for i in range(k)]\n",
    "\n",
    "left=1\n",
    "right=max(data)\n",
    "result = 0\n",
    "\n",
    "while left <= right:\n",
    "    mid = (left+right)//2\n",
    "    total = 0\n",
    "    for i in data:\n",
    "        total += i//mid\n",
    "\n",
    "    if total >= n :\n",
    "        left = mid + 1\n",
    "        result = mid\n",
    "        # print(result)\n",
    "    else :\n",
    "        right = mid -1\n",
    "        # print(right)\n",
    "        # print(\"**\")\n",
    "        # print(mid)\n",
    "\n",
    "print(result)\n"
   ],
   "metadata": {
    "collapsed": false
   }
  },
  {
   "cell_type": "code",
   "execution_count": 22,
   "outputs": [
    {
     "name": "stdout",
     "output_type": "stream",
     "text": [
      "1 0 0 1 1 0 0 1 "
     ]
    }
   ],
   "source": [
    "#10815 숫자카드 도전! => 답은 맞아도, 시간초과... =>이진 탐색으로 시간을 줄여야한다....\n",
    "\n",
    "# import sys\n",
    "# input = sys.stdin.readline\n",
    "\n",
    "n = int(input())\n",
    "x = list(map(int, input().split()))\n",
    "m = int(input())\n",
    "y = list(map(int, input().split()))\n",
    "\n",
    "a=[]\n",
    "for i in range(len(y)):\n",
    "    if y[i] in x:\n",
    "        a.append(1)\n",
    "    else :\n",
    "        a.append(0)\n",
    "\n",
    "for i in a:\n",
    "    print(i, end=' ')\n"
   ],
   "metadata": {
    "collapsed": false
   }
  },
  {
   "cell_type": "code",
   "execution_count": 25,
   "outputs": [
    {
     "name": "stdout",
     "output_type": "stream",
     "text": [
      "0 0 0 0 0 0 0 0 "
     ]
    }
   ],
   "source": [
    "#10815 숫자카드\n",
    "from bisect import bisect_left,bisect_right\n",
    "import sys\n",
    "# input=sys.stdin.readline\n",
    "\n",
    "n = int(input())\n",
    "xx = sorted(map(int, input().split()))\n",
    "m = int(input())\n",
    "yy = list(map(int, input().split()))\n",
    "\n",
    "ans = []\n",
    "for y in yy:\n",
    "    l=bisect_left(xx, y)\n",
    "    r=bisect_right(xx, y)\n",
    "    ans.append(1 if r-l >0 else 0)\n",
    "    # if l-r>0:\n",
    "    #     ans.append(1)\n",
    "\n",
    "# for i in ans:\n",
    "#     print(i, end=' ')\n",
    "print(*ans) #이렇게 쓰면 리스트에 있는 숫자를 띄어쓰기 형태로 불러줌\n",
    "\n",
    "\n"
   ],
   "metadata": {
    "collapsed": false
   }
  }
 ],
 "metadata": {
  "kernelspec": {
   "display_name": "Python 3",
   "language": "python",
   "name": "python3"
  },
  "language_info": {
   "codemirror_mode": {
    "name": "ipython",
    "version": 2
   },
   "file_extension": ".py",
   "mimetype": "text/x-python",
   "name": "python",
   "nbconvert_exporter": "python",
   "pygments_lexer": "ipython2",
   "version": "2.7.6"
  }
 },
 "nbformat": 4,
 "nbformat_minor": 0
}
