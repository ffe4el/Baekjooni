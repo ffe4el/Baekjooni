{
 "cells": [
  {
   "cell_type": "code",
   "execution_count": null,
   "metadata": {
    "collapsed": true,
    "pycharm": {
     "is_executing": true
    }
   },
   "outputs": [],
   "source": [
    "# 10807\n",
    "\n",
    "n=int(input())\n",
    "v =input().split()\n",
    "a = input()\n",
    "b=[]\n",
    "for i in range(len(v)):\n",
    "    if v[i]== a:\n",
    "        b.append(v[i])\n",
    "\n",
    "print(len(b))"
   ]
  },
  {
   "cell_type": "code",
   "execution_count": 6,
   "outputs": [
    {
     "name": "stdout",
     "output_type": "stream",
     "text": [
      "1\n",
      "4\n",
      "2\n",
      "3\n"
     ]
    }
   ],
   "source": [
    "# 10871\n",
    "\n",
    "n, x = map(int, input().split())\n",
    "a = input().split()\n",
    "\n",
    "for i in range(len(a)):\n",
    "    if x > int(a[i]):\n",
    "        print(a[i])\n"
   ],
   "metadata": {
    "collapsed": false
   }
  },
  {
   "cell_type": "code",
   "execution_count": 23,
   "outputs": [
    {
     "name": "stdout",
     "output_type": "stream",
     "text": [
      "20\n",
      "5\n",
      "7 35\n"
     ]
    }
   ],
   "source": [
    "# 10818\n",
    "\n",
    "n = int(input())\n",
    "m = input().split()\n",
    "\n",
    "max = int(m[0])\n",
    "min = int(m[0])\n",
    "for i in range(len(m)):\n",
    "    if max < int(m[i]):\n",
    "        max = int(m[i])\n",
    "    elif min > int(m[i]):\n",
    "        min = int(m[i])\n",
    "#\n",
    "print(min, max)\n"
   ],
   "metadata": {
    "collapsed": false
   }
  },
  {
   "cell_type": "code",
   "execution_count": 26,
   "outputs": [
    {
     "name": "stdout",
     "output_type": "stream",
     "text": [
      "85\n",
      "8\n"
     ]
    }
   ],
   "source": [
    "# 2562\n",
    "m=[]\n",
    "for i in range(9):\n",
    "    n = input()\n",
    "    m.append(n)\n",
    "\n",
    "max = int(n[0])\n",
    "k = 0\n",
    "\n",
    "for i in range(9):\n",
    "    if max < int(m[i]):\n",
    "        max = int(m[i])\n",
    "        k = i+1\n",
    "\n",
    "print(max)\n",
    "print(k)"
   ],
   "metadata": {
    "collapsed": false
   }
  },
  {
   "cell_type": "code",
   "execution_count": 31,
   "outputs": [
    {
     "name": "stdout",
     "output_type": "stream",
     "text": [
      "[1, 2, 3, 4, 5, 7, 9, 10, 11, 12, 13, 14, 15, 16, 17, 18, 19, 20, 21, 22, 23, 24, 25, 26, 27, 28, 29, 30]\n",
      "6\n",
      "8\n"
     ]
    }
   ],
   "source": [
    "#5597\n",
    "n=[]\n",
    "m=[]\n",
    "\n",
    "for i in range(28):\n",
    "    k = int(input())\n",
    "    n.append(k)\n",
    "\n",
    "for i in range(1,31):\n",
    "    m.append(i)\n",
    "\n",
    "for i in m:\n",
    "    if i not in n:\n",
    "        print(i)\n",
    "\n"
   ],
   "metadata": {
    "collapsed": false
   }
  },
  {
   "cell_type": "code",
   "execution_count": null,
   "outputs": [],
   "source": [
    "#5597\n",
    "#다른 사람 정답\n",
    "\n",
    "array=list(range(1,31))\n",
    "for _ in range(28):\n",
    "  n=int(input())\n",
    "  array.remove(n)\n",
    "print(array[0])\n",
    "print(array[1])"
   ],
   "metadata": {
    "collapsed": false
   }
  },
  {
   "cell_type": "code",
   "execution_count": null,
   "outputs": [],
   "source": [
    "# 3052\n",
    "\n",
    "n = [int(input()) in range(10)]\n",
    "m=[]\n",
    "\n",
    "for i in range(10):\n",
    "    k = int(n[i]) % 10\n",
    "    if k not in m:\n",
    "        m.append(k)\n",
    "\n",
    "# print(m)\n",
    "print(len(m))"
   ],
   "metadata": {
    "collapsed": false,
    "pycharm": {
     "is_executing": true
    }
   }
  }
 ],
 "metadata": {
  "kernelspec": {
   "display_name": "Python 3",
   "language": "python",
   "name": "python3"
  },
  "language_info": {
   "codemirror_mode": {
    "name": "ipython",
    "version": 2
   },
   "file_extension": ".py",
   "mimetype": "text/x-python",
   "name": "python",
   "nbconvert_exporter": "python",
   "pygments_lexer": "ipython2",
   "version": "2.7.6"
  }
 },
 "nbformat": 4,
 "nbformat_minor": 0
}
