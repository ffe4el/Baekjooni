{
 "cells": [
  {
   "cell_type": "code",
   "execution_count": null,
   "metadata": {
    "collapsed": true,
    "pycharm": {
     "is_executing": true
    }
   },
   "outputs": [],
   "source": [
    "# 10807\n",
    "\n",
    "n=int(input())\n",
    "v =input().split()\n",
    "a = input()\n",
    "b=[]\n",
    "for i in range(len(v)):\n",
    "    if v[i]== a:\n",
    "        b.append(v[i])\n",
    "\n",
    "print(len(b))"
   ]
  },
  {
   "cell_type": "code",
   "execution_count": 6,
   "outputs": [
    {
     "name": "stdout",
     "output_type": "stream",
     "text": [
      "1\n",
      "4\n",
      "2\n",
      "3\n"
     ]
    }
   ],
   "source": [
    "# 10871\n",
    "\n",
    "n, x = map(int, input().split())\n",
    "a = input().split()\n",
    "\n",
    "for i in range(len(a)):\n",
    "    if x > int(a[i]):\n",
    "        print(a[i])\n"
   ],
   "metadata": {
    "collapsed": false
   }
  },
  {
   "cell_type": "code",
   "execution_count": 23,
   "outputs": [
    {
     "name": "stdout",
     "output_type": "stream",
     "text": [
      "20\n",
      "5\n",
      "7 35\n"
     ]
    }
   ],
   "source": [
    "# 10818\n",
    "\n",
    "n = int(input())\n",
    "m = input().split()\n",
    "\n",
    "max = int(m[0])\n",
    "min = int(m[0])\n",
    "for i in range(len(m)):\n",
    "    if max < int(m[i]):\n",
    "        max = int(m[i])\n",
    "    elif min > int(m[i]):\n",
    "        min = int(m[i])\n",
    "#\n",
    "print(min, max)\n"
   ],
   "metadata": {
    "collapsed": false
   }
  },
  {
   "cell_type": "code",
   "execution_count": 26,
   "outputs": [
    {
     "name": "stdout",
     "output_type": "stream",
     "text": [
      "85\n",
      "8\n"
     ]
    }
   ],
   "source": [
    "# 2562\n",
    "m=[]\n",
    "for i in range(9):\n",
    "    n = input()\n",
    "    m.append(n)\n",
    "\n",
    "max = int(n[0])\n",
    "k = 0\n",
    "\n",
    "for i in range(9):\n",
    "    if max < int(m[i]):\n",
    "        max = int(m[i])\n",
    "        k = i+1\n",
    "\n",
    "print(max)\n",
    "print(k)"
   ],
   "metadata": {
    "collapsed": false
   }
  },
  {
   "cell_type": "code",
   "execution_count": null,
   "outputs": [],
   "source": [
    "# 2562 다른답\n",
    "a=[int(input()) for i in range(9)]\n",
    "print(max(a))\n",
    "print(a.index(max(a))+1)"
   ],
   "metadata": {
    "collapsed": false
   }
  },
  {
   "cell_type": "code",
   "execution_count": 31,
   "outputs": [
    {
     "name": "stdout",
     "output_type": "stream",
     "text": [
      "[1, 2, 3, 4, 5, 7, 9, 10, 11, 12, 13, 14, 15, 16, 17, 18, 19, 20, 21, 22, 23, 24, 25, 26, 27, 28, 29, 30]\n",
      "6\n",
      "8\n"
     ]
    }
   ],
   "source": [
    "#5597\n",
    "n=[]\n",
    "m=[]\n",
    "\n",
    "for i in range(28):\n",
    "    k = int(input())\n",
    "    n.append(k)\n",
    "\n",
    "for i in range(1,31):\n",
    "    m.append(i)\n",
    "\n",
    "for i in m:\n",
    "    if i not in n:\n",
    "        print(i)\n",
    "\n"
   ],
   "metadata": {
    "collapsed": false
   }
  },
  {
   "cell_type": "code",
   "execution_count": null,
   "outputs": [],
   "source": [
    "#5597\n",
    "#다른 사람 정답\n",
    "\n",
    "array=list(range(1,31))\n",
    "for _ in range(28):\n",
    "  n=int(input())\n",
    "  array.remove(n)\n",
    "print(array[0])\n",
    "print(array[1])"
   ],
   "metadata": {
    "collapsed": false
   }
  },
  {
   "cell_type": "code",
<<<<<<< HEAD
   "execution_count": 44,
   "outputs": [
    {
     "name": "stdout",
     "output_type": "stream",
     "text": [
      "6\n"
     ]
    }
   ],
   "source": [
    "# 3052\n",
    "# 리스트\n",
    "\n",
    "a=[int(input()) for i in range(10)]\n",
    "b=[]\n",
    "\n",
    "for i in range(10):\n",
    "    k = a[i] % 42\n",
    "    b.append(k)\n",
    "\n",
    "# print(b)\n",
    "n=set(b)\n",
    "print(len(list(n)))"
   ],
   "metadata": {
    "collapsed": false
   }
  },
  {
   "cell_type": "code",
   "execution_count": 51,
   "outputs": [
    {
     "ename": "TypeError",
     "evalue": "'int' object is not callable",
     "output_type": "error",
     "traceback": [
      "\u001B[0;31m---------------------------------------------------------------------------\u001B[0m",
      "\u001B[0;31mTypeError\u001B[0m                                 Traceback (most recent call last)",
      "\u001B[0;32m/var/folders/js/792bsrvx24lcg4nrdgy7k5br0000gn/T/ipykernel_50440/3732266129.py\u001B[0m in \u001B[0;36m<module>\u001B[0;34m\u001B[0m\n\u001B[1;32m      3\u001B[0m \u001B[0mn\u001B[0m \u001B[0;34m=\u001B[0m \u001B[0mint\u001B[0m\u001B[0;34m(\u001B[0m\u001B[0minput\u001B[0m\u001B[0;34m(\u001B[0m\u001B[0;34m)\u001B[0m\u001B[0;34m)\u001B[0m\u001B[0;34m\u001B[0m\u001B[0;34m\u001B[0m\u001B[0m\n\u001B[1;32m      4\u001B[0m \u001B[0ma\u001B[0m \u001B[0;34m=\u001B[0m \u001B[0mlist\u001B[0m\u001B[0;34m(\u001B[0m\u001B[0mmap\u001B[0m\u001B[0;34m(\u001B[0m\u001B[0mint\u001B[0m\u001B[0;34m,\u001B[0m \u001B[0minput\u001B[0m\u001B[0;34m(\u001B[0m\u001B[0;34m)\u001B[0m\u001B[0;34m.\u001B[0m\u001B[0msplit\u001B[0m\u001B[0;34m(\u001B[0m\u001B[0;34m)\u001B[0m\u001B[0;34m)\u001B[0m\u001B[0;34m)\u001B[0m\u001B[0;34m\u001B[0m\u001B[0;34m\u001B[0m\u001B[0m\n\u001B[0;32m----> 5\u001B[0;31m \u001B[0mb\u001B[0m\u001B[0;34m=\u001B[0m \u001B[0mmax\u001B[0m\u001B[0;34m(\u001B[0m\u001B[0ma\u001B[0m\u001B[0;34m)\u001B[0m\u001B[0;34m\u001B[0m\u001B[0;34m\u001B[0m\u001B[0m\n\u001B[0m\u001B[1;32m      6\u001B[0m \u001B[0mprint\u001B[0m\u001B[0;34m(\u001B[0m\u001B[0mb\u001B[0m\u001B[0;34m)\u001B[0m\u001B[0;34m\u001B[0m\u001B[0;34m\u001B[0m\u001B[0m\n\u001B[1;32m      7\u001B[0m \u001B[0;31m# for i in range(n):\u001B[0m\u001B[0;34m\u001B[0m\u001B[0;34m\u001B[0m\u001B[0m\n",
      "\u001B[0;31mTypeError\u001B[0m: 'int' object is not callable"
     ]
    }
   ],
   "source": [
    "#1546\n",
    "\n",
    "n = int(input())\n",
    "a = list(map(int, input().split()))\n",
    "b= max(a)\n",
    "# print(b)\n",
    "for i in range(n):\n",
    "    a[i] = a[i]/b*100\n",
    "print(sum(a)/len(a))\n"
   ],
   "metadata": {
    "collapsed": false
   }
  },
  {
   "cell_type": "code",
   "execution_count": 58,
   "outputs": [
    {
     "name": "stdout",
     "output_type": "stream",
     "text": [
      "30\n",
      "55\n"
     ]
    }
   ],
   "source": [
    "#8958\n",
    "n= int(input())\n",
    "\n",
    "for j in range(n):\n",
    "    a= input()\n",
    "    cnt = 0\n",
    "    b=[]\n",
    "    for i in range(len(a)):\n",
    "        if a[i] == \"O\":\n",
    "            cnt  += 1\n",
    "            b.append(cnt)\n",
    "        if a[i] == \"X\":\n",
    "            cnt=0\n",
    "    print(sum(b))"
   ],
   "metadata": {
    "collapsed": false
   }
  },
  {
   "cell_type": "code",
   "execution_count": 69,
   "outputs": [
    {
     "name": "stdout",
     "output_type": "stream",
     "text": [
      "40.000%\n",
      "57.143%\n",
      "33.333%\n",
      "66.667%\n",
      "55.556%\n"
     ]
    }
   ],
   "source": [
    "#4344\n",
    "\n",
    "c = int(input())\n",
    "\n",
    "for j in range(c):\n",
    "    a = list(map(int,input().split()))\n",
    "    n=a[0]\n",
    "    del a[0]\n",
    "    li=[]\n",
    "    for i in range(len(a)):\n",
    "        if a[i] > (sum(a)/len(a)) :\n",
    "            li.append(a[i])\n",
    "    print(f\"{(len(li)/(len(a))*100):.3f}%\")\n",
    "\n",
    "\n"
   ],
   "metadata": {
    "collapsed": false
   }
  },
  {
   "cell_type": "code",
   "execution_count": null,
   "outputs": [],
   "source": [],
   "metadata": {
    "collapsed": false
=======
   "execution_count": null,
   "outputs": [],
   "source": [
    "# 3052\n",
    "\n",
    "n = [int(input()) in range(10)]\n",
    "m=[]\n",
    "\n",
    "for i in range(10):\n",
    "    k = int(n[i]) % 10\n",
    "    if k not in m:\n",
    "        m.append(k)\n",
    "\n",
    "# print(m)\n",
    "print(len(m))"
   ],
   "metadata": {
    "collapsed": false,
    "pycharm": {
     "is_executing": true
    }
>>>>>>> f0dce50520b4e0955a68c470a77626645f1e6902
   }
  }
 ],
 "metadata": {
  "kernelspec": {
   "display_name": "Python 3",
   "language": "python",
   "name": "python3"
  },
  "language_info": {
   "codemirror_mode": {
    "name": "ipython",
    "version": 2
   },
   "file_extension": ".py",
   "mimetype": "text/x-python",
   "name": "python",
   "nbconvert_exporter": "python",
   "pygments_lexer": "ipython2",
   "version": "2.7.6"
  }
 },
 "nbformat": 4,
 "nbformat_minor": 0
}
