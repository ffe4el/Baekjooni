{
 "cells": [
  {
   "cell_type": "code",
   "execution_count": 1,
   "metadata": {
    "collapsed": true
   },
   "outputs": [
    {
     "name": "stdout",
     "output_type": "stream",
     "text": [
      ">\n"
     ]
    }
   ],
   "source": [
    "# 1330\n",
    "\n",
    "A,B = map(int,input().split())\n",
    "if A>B:\n",
    "    print(\">\")\n",
    "elif A<B:\n",
    "    print(\"<\")\n",
    "elif A==B:\n",
    "    print(\"==\")"
   ]
  },
  {
   "cell_type": "code",
   "execution_count": null,
   "outputs": [],
   "source": [
    "# 9498\n",
    "\n",
    "a= int(input())\n",
    "\n",
    "if a>=90:\n",
    "    print(\"A\")\n",
    "elif a>=80:\n",
    "    print(\"B\")\n",
    "elif a>=70:\n",
    "    print(\"C\")\n",
    "elif a>=60:\n",
    "    print(\"D\")\n",
    "else:\n",
    "    print(\"F\")\n"
   ],
   "metadata": {
    "collapsed": false
   }
  },
  {
   "cell_type": "markdown",
   "source": [],
   "metadata": {
    "collapsed": false
   }
  },
  {
   "cell_type": "code",
   "execution_count": null,
   "outputs": [],
   "source": [
    "# 2753\n",
    "\n",
    "#윤년\n",
    "a=int(input())\n",
    "if a % 4 == 0:\n",
    "    if a % 100 == 0:\n",
    "        if a % 400 ==0:\n",
    "            print(\"1\")\n",
    "        else :\n",
    "            print(\"0\")\n",
    "    else:\n",
    "        print(\"1\")\n",
    "else :\n",
    "        print(\"0\")"
   ],
   "metadata": {
    "collapsed": false
   }
  },
  {
   "cell_type": "code",
   "execution_count": null,
   "outputs": [],
   "source": [
    "# 14681\n",
    "\n",
    "# 사분면 고르기\n",
    "a= int(input())\n",
    "b= int(input())\n",
    "\n",
    "if a>0 and b>0:\n",
    "    print('1')\n",
    "elif a>0 and b<0:\n",
    "    print('4')\n",
    "elif a<0 and b>0:\n",
    "    print('2')\n",
    "elif a<0 and b<0:\n",
    "    print('3')"
   ],
   "metadata": {
    "collapsed": false
   }
  },
  {
   "cell_type": "code",
   "execution_count": null,
   "outputs": [],
   "source": [
    "# 2884\n",
    "\n",
    "a,b = map(int,input().split())\n",
    "\n",
    "if a == 0:\n",
    "    if b-45 < 0:\n",
    "        a = 23\n",
    "        b = 60-45+b\n",
    "        print(a, b)\n",
    "    else :\n",
    "        a = a\n",
    "        b = b-45\n",
    "        print(a, b)\n",
    "else:\n",
    "    if b-45 < 0:\n",
    "        a = a-1\n",
    "        b = 60-45+b\n",
    "        print(a, b)\n",
    "    else :\n",
    "        a = a\n",
    "        b = b-45\n",
    "        print(a, b)\n"
   ],
   "metadata": {
    "collapsed": false
   }
  },
  {
   "cell_type": "code",
   "execution_count": null,
   "outputs": [],
   "source": [
    "# 2525\n",
    "import math\n",
    "\n",
    "a, b= map(int,input().split())\n",
    "c= int(input())\n",
    "\n",
    "d= (b+c)/60\n",
    "d= math.trunc(d)\n",
    "\n",
    "\n",
    "if b+c>59:\n",
    "    if a+d>23:\n",
    "        print(a+d-24, b+c-(60*d))\n",
    "    else:\n",
    "        print(a+d, b+c-(60*d))\n",
    "else :\n",
    "    print(a, b+c)"
   ],
   "metadata": {
    "collapsed": false
   }
  },
  {
   "cell_type": "code",
   "execution_count": null,
   "outputs": [],
   "source": [
    "# 2480\n",
    "\n",
    "a, b, c = map(int,input().split())\n",
    "\n",
    "if a==b==c:\n",
    "    m = 10000+a*1000\n",
    "elif a==b:\n",
    "    m = 1000+a*100\n",
    "elif b==c:\n",
    "    m = 1000+b*100\n",
    "elif a==c:\n",
    "    m = 1000+a*100\n",
    "else:\n",
    "    if a>b and a>c:\n",
    "        m = a*100\n",
    "    elif a<b and b>c:\n",
    "        m = b*100\n",
    "    elif c>b and c>a:\n",
    "        m= c*100\n",
    "\n",
    "print(m)"
   ],
   "metadata": {
    "collapsed": false
   }
  },
  {
   "cell_type": "code",
   "execution_count": null,
   "outputs": [],
   "source": [
    "# 2739\n",
    "\n",
    "a= int(input())\n",
    "for i in range(1,10):\n",
    "    print(f\"{a} * {i} = {a*i}\")"
   ],
   "metadata": {
    "collapsed": false
   }
  },
  {
   "cell_type": "code",
   "execution_count": null,
   "outputs": [],
   "source": [
    "# 10950\n",
    "\n",
    "t = int(input())\n",
    "for i in range(t):\n",
    "    a,b = map(int,input().split())\n",
    "    print(a+b)\n"
   ],
   "metadata": {
    "collapsed": false
   }
  },
  {
   "cell_type": "code",
   "execution_count": null,
   "outputs": [],
   "source": [
    "# 8393\n",
    "\n",
    "n = int(input())\n",
    "\n",
    "total=0\n",
    "a=[]\n",
    "for i in range(n):\n",
    "    i += 1\n",
    "    a.append(i)\n",
    "\n",
    "print(sum(a))\n",
    "\n",
    "\n",
    "# 타인답지..\n",
    "# num=int(input())\n",
    "# print(sum(range(num+1)))"
   ],
   "metadata": {
    "collapsed": false
   }
  },
  {
   "cell_type": "code",
   "execution_count": null,
   "outputs": [],
   "source": [
    "# 25304\n",
    "\n",
    "x= int(input())\n",
    "n = int(input())\n",
    "list=[]\n",
    "for i in range(n):\n",
    "    a,b = map(int, input().split())\n",
    "    list.append(a*b)\n",
    "\n",
    "if sum(list) == x:\n",
    "    print(\"Yes\")\n",
    "else :\n",
    "    print(\"No\")\n",
    "\n",
    "\n"
   ],
   "metadata": {
    "collapsed": false
   }
  },
  {
   "cell_type": "code",
   "execution_count": null,
   "outputs": [],
   "source": [
    "# 25304\n",
    "\n",
    "x= int(input())\n",
    "n = int(input())\n",
    "\n",
    "total=0\n",
    "for i in range(n):\n",
    "    a,b = map(int, input().split())\n",
    "    total += a*b\n",
    "\n",
    "if total == x:\n",
    "    print(\"Yes\")\n",
    "else :\n",
    "    print(\"No\")"
   ],
   "metadata": {
    "collapsed": false
   }
  },
  {
   "cell_type": "code",
   "execution_count": null,
   "outputs": [],
   "source": [
    "# 25304\n",
    "\n",
    "import sys\n",
    "input = sys.stdin.readline\n",
    "# 이게 약간... 한줄한줄 입력해서 넣어주는 라이브러리인듯...?\n",
    "total = int(input())\n",
    "for i in range(int(input())):\n",
    "    a,b = map(int,input().split())\n",
    "    total -= a*b\n",
    "print(\"Yes\" if total == 0 else \"No\")  # if 문 이렇게 쓸수도 있다...!"
   ],
   "metadata": {
    "collapsed": false
   }
  },
  {
   "cell_type": "code",
   "execution_count": null,
   "outputs": [],
   "source": [
    "# 2438\n",
    "\n",
    "n=int(input())\n",
    "\n",
    "for i in range(1,n+1):\n",
    "    print(\"*\"*i)"
   ],
   "metadata": {
    "collapsed": false
   }
  },
  {
   "cell_type": "code",
   "execution_count": null,
   "outputs": [],
   "source": [
    "# 2439\n",
    "\n",
    "n=int(input())\n",
    "\n",
    "for i in range(1,n+1):\n",
    "    print(\" \"*(n-i)+\"*\"*i)\n"
   ],
   "metadata": {
    "collapsed": false
   }
  },
  {
   "cell_type": "code",
   "execution_count": null,
   "outputs": [],
   "source": [
    "#15552\n",
    "\n",
    "import sys\n",
    "\n",
    "\n",
    "input = int(sys.stdin.readline())\n",
    "t = int(input())\n",
    "for i in range(t):\n",
    "    a,b=map(int,input().split())\n",
    "    print(a+b)\n"
   ],
   "metadata": {
    "collapsed": false
   }
  },
  {
   "cell_type": "code",
   "execution_count": null,
   "outputs": [],
   "source": [
    "#11021\n",
    "T= int(input())\n",
    "A, B= map(int,input())\n",
    "for i in range(1,T+1):\n",
    "    print(f\"Case #{T}: {A+B}\")\n"
   ],
   "metadata": {
    "collapsed": false
   }
  },
  {
   "cell_type": "code",
   "execution_count": null,
   "outputs": [],
   "source": [
    "# 11022\n",
    "\n",
    "T= int(input())\n",
    "\n",
    "for i in range(1,T+1):\n",
    "    A, B = map(int, input().split())\n",
    "    print(f\"Case #{i}: {A} + {B} = {A+B}\")"
   ],
   "metadata": {
    "collapsed": false
   }
  },
  {
   "cell_type": "code",
   "execution_count": 2,
   "outputs": [
    {
     "name": "stdout",
     "output_type": "stream",
     "text": [
      "2\n",
      "11\n",
      "7\n"
     ]
    }
   ],
   "source": [
    "# 10952\n",
    "\n",
    "while True:\n",
    "    A, B = map(int, input().split())\n",
    "    if A==0 and B==0:\n",
    "        break;\n",
    "    print(f\"{A+B}\")\n",
    "\n",
    "\n",
    "\n"
   ],
   "metadata": {
    "collapsed": false
   }
  },
  {
   "cell_type": "code",
   "execution_count": 4,
   "outputs": [
    {
     "name": "stdout",
     "output_type": "stream",
     "text": [
      "2\n",
      "5\n",
      "7\n",
      "17\n",
      "7\n"
     ]
    }
   ],
   "source": [
    "# 10951\n",
    "# 테스트케이스가 주어지지 않았다면 계속 반복문이 돌 수 있는데, 이부분은 try, except로 해결할 수 있다.\n",
    "\n",
    "while True:\n",
    "    try :\n",
    "        A, B = map(int, input().split())\n",
    "        print(f\"{A+B}\")\n",
    "    except :\n",
    "        break"
   ],
   "metadata": {
    "collapsed": false
   }
  },
  {
   "cell_type": "code",
   "execution_count": 28,
   "outputs": [],
   "source": [
    "# 1110\n",
    "\n",
    "n = input()\n",
    "m = int(n)\n",
    "num= 0\n",
    "# print(n + n)\n",
    "# print(str(n[0]))\n",
    "\n",
    "# a = int(n[0])+int(n[1])\n",
    "# b = str(a)\n",
    "# if a>10:\n",
    "#     n= n[1]+b[1]\n",
    "# else :\n",
    "#     n=n[1]+b\n",
    "# print(n)\n",
    "\n",
    "# print(b)\n",
    "i= 0\n",
    "while(n == m):\n",
    "    a = int(n[0])+int(n[1])\n",
    "    b = str(a)\n",
    "    if a>10:\n",
    "        n= n[1]+b[1]\n",
    "    else :\n",
    "        n=n[1]+b\n",
    "    i= i+1\n",
    "    print(i)\n",
    "    print(n)\n"
   ],
   "metadata": {
    "collapsed": false
   }
  }
 ],
 "metadata": {
  "kernelspec": {
   "display_name": "Python 3",
   "language": "python",
   "name": "python3"
  },
  "language_info": {
   "codemirror_mode": {
    "name": "ipython",
    "version": 2
   },
   "file_extension": ".py",
   "mimetype": "text/x-python",
   "name": "python",
   "nbconvert_exporter": "python",
   "pygments_lexer": "ipython2",
   "version": "2.7.6"
  }
 },
 "nbformat": 4,
 "nbformat_minor": 0
}
