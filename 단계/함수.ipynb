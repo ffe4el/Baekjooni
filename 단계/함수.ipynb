{
 "cells": [
  {
   "cell_type": "code",
   "execution_count": 9,
   "metadata": {
    "collapsed": true
   },
   "outputs": [
    {
     "name": "stdout",
     "output_type": "stream",
     "text": [
      "15\n"
     ]
    }
   ],
   "source": [
    "# 15596\n",
    "\n",
    "def plus(a):\n",
    "    return sum(a)\n",
    "\n"
   ]
  },
  {
   "cell_type": "code",
   "execution_count": 41,
   "outputs": [
    {
     "name": "stdout",
     "output_type": "stream",
     "text": [
      "['39', '105']\n"
     ]
    }
   ],
   "source": [
    "# 4673\n",
    "# a=\"7\"\n",
    "# b=\"5\"\n",
    "# n = int(a+b)+int(a)+int(b)\n",
    "\n",
    "# for i in range(9):\n",
    "#     for j in range(9):\n",
    "#         i+j+int(str(i)+str(j))\n",
    "\n",
    "# a=str(33)\n",
    "# b= str(int(a[0])+int(a[1])+int(a[0]+a[1]))\n",
    "c=[]\n",
    "a=\"33\"\n",
    "for i in range(2):\n",
    "    a=str(int(a[1])+int(a[0])+int(a[1]+a[0]))\n",
    "    c.append(a)\n",
    "\n",
    "print(c)\n",
    "\n"
   ],
   "metadata": {
    "collapsed": false
   }
  }
 ],
 "metadata": {
  "kernelspec": {
   "display_name": "Python 3",
   "language": "python",
   "name": "python3"
  },
  "language_info": {
   "codemirror_mode": {
    "name": "ipython",
    "version": 2
   },
   "file_extension": ".py",
   "mimetype": "text/x-python",
   "name": "python",
   "nbconvert_exporter": "python",
   "pygments_lexer": "ipython2",
   "version": "2.7.6"
  }
 },
 "nbformat": 4,
 "nbformat_minor": 0
}
