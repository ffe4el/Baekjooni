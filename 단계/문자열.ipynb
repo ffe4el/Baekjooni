{
 "cells": [
  {
   "cell_type": "code",
   "execution_count": null,
   "outputs": [],
   "source": [
    "# 11654\n",
    "\n",
    "a = input()\n",
    "\n",
    "print(ord(a))\n"
   ],
   "metadata": {
    "collapsed": false
   }
  },
  {
   "cell_type": "code",
   "execution_count": null,
   "metadata": {
    "collapsed": true
   },
   "outputs": [],
   "source": [
    "# 11720\n",
    "\n",
    "n = int(input())\n",
    "num = list(map(int,input()))\n",
    "total = 0\n",
    "for i in range(n):\n",
    "    total += num[i]\n",
    "\n",
    "print(total)"
   ]
  },
  {
   "cell_type": "code",
   "execution_count": 25,
   "outputs": [
    {
     "name": "stdout",
     "output_type": "stream",
     "text": [
      " \n",
      " \n",
      " \n",
      " \n",
      " \n",
      " \n",
      " \n",
      "1 0 -1 -1 2 -1 -1 -1 -1 4 3 -1 -1 7 5 -1 -1 -1 -1 -1 -1 -1 -1 -1 -1 -1 "
     ]
    }
   ],
   "source": [
    "#10809\n",
    "# 헷갈렸다...\n",
    "\n",
    "ch = list(input())\n",
    "alpha = []\n",
    "a = []\n",
    "\n",
    " # 일단 비교할 알파벳 소문자 배열 만들기(아스키코드이용)\n",
    "for i in range(26):\n",
    "    c= 97+i\n",
    "    alpha.append(chr(c))\n",
    "\n",
    "\n",
    "for i in range(len(alpha)):  # 알파벳 배열을 돌려볼 예정\n",
    "    if alpha[i] not in ch:  # 알파벳이 입력배열에 없으면\n",
    "        a.append(-1)    # -1을 새배열 a에 저장\n",
    "    else :              # 알파벳이 입력배열에 있으면\n",
    "        for j in range(len(ch)):    #입력 배열을 돌림\n",
    "            if ch[j]==alpha[i]:\n",
    "                a.append(j)     # 해당 컬럼을 a에 저장\n",
    "                alpha[i] = \" \"  #이미 한번 찾은 알파벳은 알파벳 배열에서 제외\n",
    "\n",
    "\n",
    "for i in a:     #리스트에 저장된 숫자를 하나씩 띄어쓰기하면서 출력\n",
    "    print(i, end=' ')"
   ],
   "metadata": {
    "collapsed": false
   }
  },
  {
   "cell_type": "code",
   "execution_count": 45,
   "outputs": [
    {
     "name": "stdout",
     "output_type": "stream",
     "text": [
      "AAABBBCCC\n",
      "aaabbbccc\n"
     ]
    }
   ],
   "source": [
    "#2675\n",
    "tc = int(input())\n",
    "for k in range(tc):\n",
    "    n, c = input().split()\n",
    "    for i in range(len(c)):\n",
    "        for j in range(int(n)):\n",
    "            print(c[i], end='')\n",
    "    print()     # 이걸 해줘야지 줄바꿈이 됨... \\n이걸 해주면 두칸이 넘어감.. 왜지...?\n",
    "    \n"
   ],
   "metadata": {
    "collapsed": false
   }
  },
  {
   "cell_type": "code",
   "execution_count": 46,
   "outputs": [
    {
     "name": "stdout",
     "output_type": "stream",
     "text": [
      "AABBCC\n",
      "aaabbbccc\n",
      "ffffkkkkdddd\n"
     ]
    }
   ],
   "source": [
    "#2675 다른 사람 답\n",
    "T=int(input())\n",
    "for i in range(T):\n",
    "    R,S=input().split()\n",
    "    for i in S: #for 문 두번 돌린것을 이렇게 표현할 수도 있다...\n",
    "        print(int(R)*i,end='')\n",
    "    print()"
   ],
   "metadata": {
    "collapsed": false
   }
  },
  {
   "cell_type": "code",
   "execution_count": 47,
   "outputs": [
    {
     "name": "stdout",
     "output_type": "stream",
     "text": [
      "AAABBBCCC\n",
      "dddkkkffflll\n"
     ]
    }
   ],
   "source": [],
   "metadata": {
    "collapsed": false
   }
  }
 ],
 "metadata": {
  "kernelspec": {
   "display_name": "Python 3",
   "language": "python",
   "name": "python3"
  },
  "language_info": {
   "codemirror_mode": {
    "name": "ipython",
    "version": 2
   },
   "file_extension": ".py",
   "mimetype": "text/x-python",
   "name": "python",
   "nbconvert_exporter": "python",
   "pygments_lexer": "ipython2",
   "version": "2.7.6"
  }
 },
 "nbformat": 4,
 "nbformat_minor": 0
}
